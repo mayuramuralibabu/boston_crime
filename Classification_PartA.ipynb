{
 "cells": [
  {
   "cell_type": "markdown",
   "metadata": {},
   "source": [
    "### Applying Classification on Boston Crime Dataset\n",
    "\n",
    "<pre> We have considered the crime report dataset to perform Classification Model for analyzing the dataset and extract the nature and frequency of crimes in various districts.\n",
    "\n",
    "<b>Dataset</b>\n",
    "1. This data set is obtained from Kaggle\n",
    "- https://www.kaggle.com/AnalyzeBoston/crimes-in-boston\n",
    "2. The dataset contains 100k unique rows with 15 attributes indicating the crime report filed \n",
    "in various districts.\n",
    "3. The association rule here is performed for the attribute DISTRICT based on the unique\n",
    "OFFENSE_CODE_GROUP attribute.\n",
    "4. There are 12 DISTRICT values and 64 OFFENSE_CODE_GROUP values</pre>"
   ]
  },
  {
   "cell_type": "markdown",
   "metadata": {},
   "source": [
    "### Import Packages"
   ]
  },
  {
   "cell_type": "code",
   "execution_count": 1,
   "metadata": {},
   "outputs": [],
   "source": [
    "%matplotlib inline\n",
    "import numpy as np\n",
    "import pandas as pd\n",
    "from sklearn import linear_model\n",
    "import matplotlib.pyplot\n",
    "import matplotlib.pyplot as plt\n",
    "import seaborn as sns\n",
    "import os\n",
    "\n",
    "df_crime = pd.read_csv('crime.csv',sep=',')\n",
    "df_crime.head()\n",
    "# Ignore useless warnings (see SciPy issue #5998)\n",
    "import warnings\n",
    "warnings.filterwarnings(\"ignore\")"
   ]
  },
  {
   "cell_type": "code",
   "execution_count": 2,
   "metadata": {},
   "outputs": [],
   "source": [
    "# Plot a confusion matrix.\n",
    "# cm is the confusion matrix, names are the names of the classes.\n",
    "def plot_confusion_matrix(cm, names, title='Confusion matrix', cmap=plt.cm.Blues):\n",
    "    plt.imshow(cm, interpolation='nearest', cmap=cmap)\n",
    "    plt.title(title)\n",
    "    plt.colorbar()\n",
    "    tick_marks = np.arange(len(names))\n",
    "    plt.xticks(tick_marks, names, rotation=45)\n",
    "    plt.yticks(tick_marks, names)\n",
    "    plt.tight_layout()\n",
    "    plt.ylabel('True label')\n",
    "    plt.xlabel('Predicted label')"
   ]
  },
  {
   "cell_type": "code",
   "execution_count": 3,
   "metadata": {},
   "outputs": [
    {
     "data": {
      "text/plain": [
       "(21292, 15)"
      ]
     },
     "execution_count": 3,
     "metadata": {},
     "output_type": "execute_result"
    }
   ],
   "source": [
    "# Randomly sample 10% of your dataframe\n",
    "df_c = df_crime.sample(frac=0.05)\n",
    "df_c.shape"
   ]
  },
  {
   "cell_type": "markdown",
   "metadata": {},
   "source": [
    "### Filling Missing values"
   ]
  },
  {
   "cell_type": "code",
   "execution_count": 4,
   "metadata": {},
   "outputs": [
    {
     "data": {
      "text/plain": [
       "INCIDENT_NUMBER           0\n",
       "OFFENSE_CODE              0\n",
       "OFFENSE_CODE_GROUP        0\n",
       "OFFENSE_DESCRIPTION       0\n",
       "DISTRICT                120\n",
       "REPORTING_AREA            0\n",
       "YEAR                      0\n",
       "MONTH                     0\n",
       "DAY_OF_WEEK               0\n",
       "HOUR                      0\n",
       "UCR_PART                  8\n",
       "STREET                  647\n",
       "Lat                    1423\n",
       "Long                   1423\n",
       "Location                  0\n",
       "dtype: int64"
      ]
     },
     "execution_count": 4,
     "metadata": {},
     "output_type": "execute_result"
    }
   ],
   "source": [
    "df_c.isna().sum()"
   ]
  },
  {
   "cell_type": "code",
   "execution_count": 5,
   "metadata": {},
   "outputs": [],
   "source": [
    "median = df_c[\"Lat\"].median()\n",
    "df_c[\"Lat\"].fillna(median, inplace=True) \n",
    "\n",
    "median = df_c[\"Long\"].median()\n",
    "df_c[\"Long\"].fillna(median, inplace=True) "
   ]
  },
  {
   "cell_type": "markdown",
   "metadata": {},
   "source": [
    "## Droping Inapropriate attributes"
   ]
  },
  {
   "cell_type": "code",
   "execution_count": 6,
   "metadata": {},
   "outputs": [
    {
     "data": {
      "text/html": [
       "<div>\n",
       "<style scoped>\n",
       "    .dataframe tbody tr th:only-of-type {\n",
       "        vertical-align: middle;\n",
       "    }\n",
       "\n",
       "    .dataframe tbody tr th {\n",
       "        vertical-align: top;\n",
       "    }\n",
       "\n",
       "    .dataframe thead th {\n",
       "        text-align: right;\n",
       "    }\n",
       "</style>\n",
       "<table border=\"1\" class=\"dataframe\">\n",
       "  <thead>\n",
       "    <tr style=\"text-align: right;\">\n",
       "      <th></th>\n",
       "      <th>INCIDENT_NUMBER</th>\n",
       "      <th>OFFENSE_CODE</th>\n",
       "      <th>OFFENSE_CODE_GROUP</th>\n",
       "      <th>OFFENSE_DESCRIPTION</th>\n",
       "      <th>DISTRICT</th>\n",
       "      <th>REPORTING_AREA</th>\n",
       "      <th>YEAR</th>\n",
       "      <th>MONTH</th>\n",
       "      <th>DAY_OF_WEEK</th>\n",
       "      <th>HOUR</th>\n",
       "      <th>UCR_PART</th>\n",
       "      <th>STREET</th>\n",
       "      <th>Lat</th>\n",
       "      <th>Long</th>\n",
       "      <th>Location</th>\n",
       "    </tr>\n",
       "  </thead>\n",
       "  <tbody>\n",
       "    <tr>\n",
       "      <td>243762</td>\n",
       "      <td>I172031576</td>\n",
       "      <td>802</td>\n",
       "      <td>Simple Assault</td>\n",
       "      <td>ASSAULT SIMPLE - BATTERY</td>\n",
       "      <td>D4</td>\n",
       "      <td>170</td>\n",
       "      <td>2017</td>\n",
       "      <td>4</td>\n",
       "      <td>Sunday</td>\n",
       "      <td>11</td>\n",
       "      <td>Part Two</td>\n",
       "      <td>E SPRINGFIELD ST</td>\n",
       "      <td>42.335459</td>\n",
       "      <td>-71.074489</td>\n",
       "      <td>(42.33545950, -71.07448891)</td>\n",
       "    </tr>\n",
       "    <tr>\n",
       "      <td>335019</td>\n",
       "      <td>I162040341</td>\n",
       "      <td>1106</td>\n",
       "      <td>Confidence Games</td>\n",
       "      <td>FRAUD - CREDIT CARD / ATM FRAUD</td>\n",
       "      <td>B2</td>\n",
       "      <td></td>\n",
       "      <td>2016</td>\n",
       "      <td>5</td>\n",
       "      <td>Monday</td>\n",
       "      <td>18</td>\n",
       "      <td>Part Two</td>\n",
       "      <td>ARION</td>\n",
       "      <td>42.325024</td>\n",
       "      <td>-71.077683</td>\n",
       "      <td>(0.00000000, 0.00000000)</td>\n",
       "    </tr>\n",
       "    <tr>\n",
       "      <td>100880</td>\n",
       "      <td>I182075189</td>\n",
       "      <td>2646</td>\n",
       "      <td>Liquor Violation</td>\n",
       "      <td>LIQUOR - DRINKING IN PUBLIC</td>\n",
       "      <td>B2</td>\n",
       "      <td>181</td>\n",
       "      <td>2018</td>\n",
       "      <td>9</td>\n",
       "      <td>Monday</td>\n",
       "      <td>20</td>\n",
       "      <td>Part Two</td>\n",
       "      <td>NORFOLK AVE</td>\n",
       "      <td>42.325877</td>\n",
       "      <td>-71.070249</td>\n",
       "      <td>(42.32587659, -71.07024947)</td>\n",
       "    </tr>\n",
       "    <tr>\n",
       "      <td>414322</td>\n",
       "      <td>I152062097</td>\n",
       "      <td>619</td>\n",
       "      <td>Larceny</td>\n",
       "      <td>LARCENY ALL OTHERS</td>\n",
       "      <td>E5</td>\n",
       "      <td>746</td>\n",
       "      <td>2015</td>\n",
       "      <td>7</td>\n",
       "      <td>Wednesday</td>\n",
       "      <td>10</td>\n",
       "      <td>Part One</td>\n",
       "      <td>LAGRANGE ST</td>\n",
       "      <td>42.292778</td>\n",
       "      <td>-71.169897</td>\n",
       "      <td>(42.29277797, -71.16989709)</td>\n",
       "    </tr>\n",
       "    <tr>\n",
       "      <td>223906</td>\n",
       "      <td>I172052789</td>\n",
       "      <td>3115</td>\n",
       "      <td>Investigate Person</td>\n",
       "      <td>INVESTIGATE PERSON</td>\n",
       "      <td>C6</td>\n",
       "      <td>936</td>\n",
       "      <td>2017</td>\n",
       "      <td>6</td>\n",
       "      <td>Friday</td>\n",
       "      <td>17</td>\n",
       "      <td>Part Three</td>\n",
       "      <td>FLAHERTY WAY</td>\n",
       "      <td>42.337947</td>\n",
       "      <td>-71.053105</td>\n",
       "      <td>(42.33794745, -71.05310513)</td>\n",
       "    </tr>\n",
       "    <tr>\n",
       "      <td>...</td>\n",
       "      <td>...</td>\n",
       "      <td>...</td>\n",
       "      <td>...</td>\n",
       "      <td>...</td>\n",
       "      <td>...</td>\n",
       "      <td>...</td>\n",
       "      <td>...</td>\n",
       "      <td>...</td>\n",
       "      <td>...</td>\n",
       "      <td>...</td>\n",
       "      <td>...</td>\n",
       "      <td>...</td>\n",
       "      <td>...</td>\n",
       "      <td>...</td>\n",
       "      <td>...</td>\n",
       "    </tr>\n",
       "    <tr>\n",
       "      <td>103537</td>\n",
       "      <td>I182072283</td>\n",
       "      <td>3115</td>\n",
       "      <td>Investigate Person</td>\n",
       "      <td>INVESTIGATE PERSON</td>\n",
       "      <td>A1</td>\n",
       "      <td>123</td>\n",
       "      <td>2018</td>\n",
       "      <td>9</td>\n",
       "      <td>Saturday</td>\n",
       "      <td>4</td>\n",
       "      <td>Part Three</td>\n",
       "      <td>WASHINGTON ST</td>\n",
       "      <td>42.325024</td>\n",
       "      <td>-71.077683</td>\n",
       "      <td>(0.00000000, 0.00000000)</td>\n",
       "    </tr>\n",
       "    <tr>\n",
       "      <td>392732</td>\n",
       "      <td>I152085559</td>\n",
       "      <td>3106</td>\n",
       "      <td>Property Related Damage</td>\n",
       "      <td>PROPERTY - ACCIDENTAL DAMAGE</td>\n",
       "      <td>B2</td>\n",
       "      <td>264</td>\n",
       "      <td>2015</td>\n",
       "      <td>10</td>\n",
       "      <td>Wednesday</td>\n",
       "      <td>19</td>\n",
       "      <td>Part Three</td>\n",
       "      <td>GAYLAND ST</td>\n",
       "      <td>42.319890</td>\n",
       "      <td>-71.076262</td>\n",
       "      <td>(42.31989006, -71.07626209)</td>\n",
       "    </tr>\n",
       "    <tr>\n",
       "      <td>330241</td>\n",
       "      <td>I162045422</td>\n",
       "      <td>2647</td>\n",
       "      <td>Other</td>\n",
       "      <td>THREATS TO DO BODILY HARM</td>\n",
       "      <td>E5</td>\n",
       "      <td>687</td>\n",
       "      <td>2016</td>\n",
       "      <td>6</td>\n",
       "      <td>Thursday</td>\n",
       "      <td>6</td>\n",
       "      <td>Part Two</td>\n",
       "      <td>ALDRICH ST</td>\n",
       "      <td>42.284462</td>\n",
       "      <td>-71.141184</td>\n",
       "      <td>(42.28446188, -71.14118365)</td>\n",
       "    </tr>\n",
       "    <tr>\n",
       "      <td>272350</td>\n",
       "      <td>I172001143</td>\n",
       "      <td>616</td>\n",
       "      <td>Larceny</td>\n",
       "      <td>LARCENY THEFT OF BICYCLE</td>\n",
       "      <td>A1</td>\n",
       "      <td>77</td>\n",
       "      <td>2016</td>\n",
       "      <td>12</td>\n",
       "      <td>Tuesday</td>\n",
       "      <td>19</td>\n",
       "      <td>Part One</td>\n",
       "      <td>CANAL ST</td>\n",
       "      <td>42.364895</td>\n",
       "      <td>-71.060502</td>\n",
       "      <td>(42.36489527, -71.06050249)</td>\n",
       "    </tr>\n",
       "    <tr>\n",
       "      <td>43264</td>\n",
       "      <td>I192031596</td>\n",
       "      <td>1810</td>\n",
       "      <td>Drug Violation</td>\n",
       "      <td>DRUGS - SALE / MANUFACTURING</td>\n",
       "      <td>A1</td>\n",
       "      <td>111</td>\n",
       "      <td>2019</td>\n",
       "      <td>4</td>\n",
       "      <td>Monday</td>\n",
       "      <td>17</td>\n",
       "      <td>Part Two</td>\n",
       "      <td>TREMONT ST</td>\n",
       "      <td>42.355942</td>\n",
       "      <td>-71.062583</td>\n",
       "      <td>(42.35594239, -71.06258333)</td>\n",
       "    </tr>\n",
       "  </tbody>\n",
       "</table>\n",
       "<p>20596 rows × 15 columns</p>\n",
       "</div>"
      ],
      "text/plain": [
       "       INCIDENT_NUMBER  OFFENSE_CODE       OFFENSE_CODE_GROUP  \\\n",
       "243762      I172031576           802           Simple Assault   \n",
       "335019      I162040341          1106         Confidence Games   \n",
       "100880      I182075189          2646         Liquor Violation   \n",
       "414322      I152062097           619                  Larceny   \n",
       "223906      I172052789          3115       Investigate Person   \n",
       "...                ...           ...                      ...   \n",
       "103537      I182072283          3115       Investigate Person   \n",
       "392732      I152085559          3106  Property Related Damage   \n",
       "330241      I162045422          2647                    Other   \n",
       "272350      I172001143           616                  Larceny   \n",
       "43264       I192031596          1810           Drug Violation   \n",
       "\n",
       "                    OFFENSE_DESCRIPTION DISTRICT REPORTING_AREA  YEAR  MONTH  \\\n",
       "243762         ASSAULT SIMPLE - BATTERY       D4            170  2017      4   \n",
       "335019  FRAUD - CREDIT CARD / ATM FRAUD       B2                 2016      5   \n",
       "100880      LIQUOR - DRINKING IN PUBLIC       B2            181  2018      9   \n",
       "414322               LARCENY ALL OTHERS       E5            746  2015      7   \n",
       "223906               INVESTIGATE PERSON       C6            936  2017      6   \n",
       "...                                 ...      ...            ...   ...    ...   \n",
       "103537               INVESTIGATE PERSON       A1            123  2018      9   \n",
       "392732     PROPERTY - ACCIDENTAL DAMAGE       B2            264  2015     10   \n",
       "330241        THREATS TO DO BODILY HARM       E5            687  2016      6   \n",
       "272350         LARCENY THEFT OF BICYCLE       A1             77  2016     12   \n",
       "43264      DRUGS - SALE / MANUFACTURING       A1            111  2019      4   \n",
       "\n",
       "       DAY_OF_WEEK  HOUR    UCR_PART            STREET        Lat       Long  \\\n",
       "243762      Sunday    11    Part Two  E SPRINGFIELD ST  42.335459 -71.074489   \n",
       "335019      Monday    18    Part Two             ARION  42.325024 -71.077683   \n",
       "100880      Monday    20    Part Two       NORFOLK AVE  42.325877 -71.070249   \n",
       "414322   Wednesday    10    Part One       LAGRANGE ST  42.292778 -71.169897   \n",
       "223906      Friday    17  Part Three      FLAHERTY WAY  42.337947 -71.053105   \n",
       "...            ...   ...         ...               ...        ...        ...   \n",
       "103537    Saturday     4  Part Three     WASHINGTON ST  42.325024 -71.077683   \n",
       "392732   Wednesday    19  Part Three        GAYLAND ST  42.319890 -71.076262   \n",
       "330241    Thursday     6    Part Two        ALDRICH ST  42.284462 -71.141184   \n",
       "272350     Tuesday    19    Part One          CANAL ST  42.364895 -71.060502   \n",
       "43264       Monday    17    Part Two        TREMONT ST  42.355942 -71.062583   \n",
       "\n",
       "                           Location  \n",
       "243762  (42.33545950, -71.07448891)  \n",
       "335019     (0.00000000, 0.00000000)  \n",
       "100880  (42.32587659, -71.07024947)  \n",
       "414322  (42.29277797, -71.16989709)  \n",
       "223906  (42.33794745, -71.05310513)  \n",
       "...                             ...  \n",
       "103537     (0.00000000, 0.00000000)  \n",
       "392732  (42.31989006, -71.07626209)  \n",
       "330241  (42.28446188, -71.14118365)  \n",
       "272350  (42.36489527, -71.06050249)  \n",
       "43264   (42.35594239, -71.06258333)  \n",
       "\n",
       "[20596 rows x 15 columns]"
      ]
     },
     "execution_count": 6,
     "metadata": {},
     "output_type": "execute_result"
    }
   ],
   "source": [
    "df_c=df_c.dropna()\n",
    "df_c"
   ]
  },
  {
   "cell_type": "markdown",
   "metadata": {},
   "source": [
    "## Exploratory Data Analysis"
   ]
  },
  {
   "cell_type": "code",
   "execution_count": 7,
   "metadata": {},
   "outputs": [
    {
     "data": {
      "text/plain": [
       "array([2017, 2016, 2018, 2015, 2019], dtype=int64)"
      ]
     },
     "execution_count": 7,
     "metadata": {},
     "output_type": "execute_result"
    }
   ],
   "source": [
    "df_c['YEAR'].unique()"
   ]
  },
  {
   "cell_type": "code",
   "execution_count": 8,
   "metadata": {},
   "outputs": [
    {
     "data": {
      "text/plain": [
       "INCIDENT_NUMBER        False\n",
       "OFFENSE_CODE           False\n",
       "OFFENSE_CODE_GROUP     False\n",
       "OFFENSE_DESCRIPTION    False\n",
       "DISTRICT               False\n",
       "REPORTING_AREA         False\n",
       "YEAR                   False\n",
       "MONTH                  False\n",
       "DAY_OF_WEEK            False\n",
       "HOUR                   False\n",
       "UCR_PART               False\n",
       "STREET                 False\n",
       "Lat                    False\n",
       "Long                   False\n",
       "Location               False\n",
       "dtype: bool"
      ]
     },
     "execution_count": 8,
     "metadata": {},
     "output_type": "execute_result"
    }
   ],
   "source": [
    "np.isnan(df_c.any())"
   ]
  },
  {
   "cell_type": "code",
   "execution_count": 9,
   "metadata": {},
   "outputs": [
    {
     "data": {
      "text/plain": [
       "array(['D4', 'B2', 'E5', 'C6', 'B3', 'C11', 'A1', 'E18', 'E13', 'A7',\n",
       "       'D14', 'A15'], dtype=object)"
      ]
     },
     "execution_count": 9,
     "metadata": {},
     "output_type": "execute_result"
    }
   ],
   "source": [
    "df_c['DISTRICT'].unique()"
   ]
  },
  {
   "cell_type": "markdown",
   "metadata": {},
   "source": [
    "## CatPlot Analysis of Crime in Districts based on Year distrubution"
   ]
  },
  {
   "cell_type": "code",
   "execution_count": 10,
   "metadata": {},
   "outputs": [
    {
     "data": {
      "text/plain": [
       "<seaborn.axisgrid.FacetGrid at 0x24e32b17208>"
      ]
     },
     "execution_count": 10,
     "metadata": {},
     "output_type": "execute_result"
    },
    {
     "data": {
      "image/png": "[encoded data removed]",
      "text/plain": [
       "<Figure size 1848.75x360 with 5 Axes>"
      ]
     },
     "metadata": {
      "needs_background": "light"
     },
     "output_type": "display_data"
    }
   ],
   "source": [
    "sns.catplot(x=\"DISTRICT\",       # Variable whose distribution (count) is of interest\n",
    "            hue=\"MONTH\",      # Show distribution, pos or -ve split-wise\n",
    "            col=\"YEAR\",       # Create two-charts/facets, gender-wise\n",
    "            data=df_c,\n",
    "            kind=\"count\")"
   ]
  },
  {
   "cell_type": "code",
   "execution_count": 11,
   "metadata": {},
   "outputs": [],
   "source": [
    "offense=pd.pivot_table(df_c.loc[:,['OFFENSE_CODE_GROUP','YEAR','OFFENSE_CODE']],index='OFFENSE_CODE_GROUP', \n",
    "              columns='YEAR',aggfunc=np.count_nonzero)"
   ]
  },
  {
   "cell_type": "code",
   "execution_count": 12,
   "metadata": {},
   "outputs": [],
   "source": [
    "summary=pd.DataFrame(offense.apply(np.sum,axis=1))\n",
    "summary=summary.rename(columns={0:'total'})"
   ]
  },
  {
   "cell_type": "markdown",
   "metadata": {},
   "source": [
    "### Top 5 high Offences "
   ]
  },
  {
   "cell_type": "code",
   "execution_count": 13,
   "metadata": {},
   "outputs": [
    {
     "data": {
      "text/html": [
       "<div>\n",
       "<style scoped>\n",
       "    .dataframe tbody tr th:only-of-type {\n",
       "        vertical-align: middle;\n",
       "    }\n",
       "\n",
       "    .dataframe tbody tr th {\n",
       "        vertical-align: top;\n",
       "    }\n",
       "\n",
       "    .dataframe thead th {\n",
       "        text-align: right;\n",
       "    }\n",
       "</style>\n",
       "<table border=\"1\" class=\"dataframe\">\n",
       "  <thead>\n",
       "    <tr style=\"text-align: right;\">\n",
       "      <th></th>\n",
       "      <th>total</th>\n",
       "    </tr>\n",
       "    <tr>\n",
       "      <th>OFFENSE_CODE_GROUP</th>\n",
       "      <th></th>\n",
       "    </tr>\n",
       "  </thead>\n",
       "  <tbody>\n",
       "    <tr>\n",
       "      <td>Motor Vehicle Accident Response</td>\n",
       "      <td>2396.0</td>\n",
       "    </tr>\n",
       "    <tr>\n",
       "      <td>Larceny</td>\n",
       "      <td>1679.0</td>\n",
       "    </tr>\n",
       "    <tr>\n",
       "      <td>Medical Assistance</td>\n",
       "      <td>1579.0</td>\n",
       "    </tr>\n",
       "    <tr>\n",
       "      <td>Investigate Person</td>\n",
       "      <td>1227.0</td>\n",
       "    </tr>\n",
       "    <tr>\n",
       "      <td>Other</td>\n",
       "      <td>1126.0</td>\n",
       "    </tr>\n",
       "  </tbody>\n",
       "</table>\n",
       "</div>"
      ],
      "text/plain": [
       "                                  total\n",
       "OFFENSE_CODE_GROUP                     \n",
       "Motor Vehicle Accident Response  2396.0\n",
       "Larceny                          1679.0\n",
       "Medical Assistance               1579.0\n",
       "Investigate Person               1227.0\n",
       "Other                            1126.0"
      ]
     },
     "execution_count": 13,
     "metadata": {},
     "output_type": "execute_result"
    }
   ],
   "source": [
    "sumsort=summary.sort_values(by='total',ascending=False)\n",
    "top5=sumsort.iloc[0:5,:]\n",
    "top5"
   ]
  },
  {
   "cell_type": "code",
   "execution_count": 14,
   "metadata": {},
   "outputs": [
    {
     "data": {
      "image/png": "[encoded data removed]",
      "text/plain": [
       "<Figure size 1080x1008 with 1 Axes>"
      ]
     },
     "metadata": {},
     "output_type": "display_data"
    }
   ],
   "source": [
    "sns.set()\n",
    "p0=plt.figure(figsize=(15,14))\n",
    "plt.title(r'2015-2019 top 5 group bar plot')\n",
    "plt.bar(range(top5.index.shape[0]),top5.loc[:,'total'])\n",
    "plt.xlabel('OFFENSE_CODE_GROUP')\n",
    "plt.xticks(range(top5.index.shape[0]),top5.index)\n",
    "x=np.arange(top5.index.shape[0])\n",
    "y=np.array(top5['total'])\n",
    "for i,j in zip(x,y):\n",
    "    plt.text(i,j,'%d'%j,ha='center')\n",
    "p0.savefig('./top5_group_bar.png')\n",
    "plt.show()"
   ]
  },
  {
   "cell_type": "markdown",
   "metadata": {},
   "source": [
    "## Grouped By District for ease of Analysis"
   ]
  },
  {
   "cell_type": "code",
   "execution_count": 15,
   "metadata": {},
   "outputs": [
    {
     "data": {
      "text/html": [
       "<div>\n",
       "<style scoped>\n",
       "    .dataframe tbody tr th:only-of-type {\n",
       "        vertical-align: middle;\n",
       "    }\n",
       "\n",
       "    .dataframe tbody tr th {\n",
       "        vertical-align: top;\n",
       "    }\n",
       "\n",
       "    .dataframe thead th {\n",
       "        text-align: right;\n",
       "    }\n",
       "</style>\n",
       "<table border=\"1\" class=\"dataframe\">\n",
       "  <thead>\n",
       "    <tr style=\"text-align: right;\">\n",
       "      <th></th>\n",
       "      <th>INCIDENT_NUMBER</th>\n",
       "      <th>OFFENSE_CODE</th>\n",
       "      <th>OFFENSE_CODE_GROUP</th>\n",
       "      <th>OFFENSE_DESCRIPTION</th>\n",
       "      <th>REPORTING_AREA</th>\n",
       "      <th>YEAR</th>\n",
       "      <th>MONTH</th>\n",
       "      <th>DAY_OF_WEEK</th>\n",
       "      <th>HOUR</th>\n",
       "      <th>UCR_PART</th>\n",
       "      <th>STREET</th>\n",
       "      <th>Lat</th>\n",
       "      <th>Long</th>\n",
       "      <th>Location</th>\n",
       "    </tr>\n",
       "    <tr>\n",
       "      <th>DISTRICT</th>\n",
       "      <th></th>\n",
       "      <th></th>\n",
       "      <th></th>\n",
       "      <th></th>\n",
       "      <th></th>\n",
       "      <th></th>\n",
       "      <th></th>\n",
       "      <th></th>\n",
       "      <th></th>\n",
       "      <th></th>\n",
       "      <th></th>\n",
       "      <th></th>\n",
       "      <th></th>\n",
       "      <th></th>\n",
       "    </tr>\n",
       "  </thead>\n",
       "  <tbody>\n",
       "    <tr>\n",
       "      <td>A1</td>\n",
       "      <td>2260</td>\n",
       "      <td>2260</td>\n",
       "      <td>2260</td>\n",
       "      <td>2260</td>\n",
       "      <td>2260</td>\n",
       "      <td>2260</td>\n",
       "      <td>2260</td>\n",
       "      <td>2260</td>\n",
       "      <td>2260</td>\n",
       "      <td>2260</td>\n",
       "      <td>2260</td>\n",
       "      <td>2260</td>\n",
       "      <td>2260</td>\n",
       "      <td>2260</td>\n",
       "    </tr>\n",
       "    <tr>\n",
       "      <td>A15</td>\n",
       "      <td>401</td>\n",
       "      <td>401</td>\n",
       "      <td>401</td>\n",
       "      <td>401</td>\n",
       "      <td>401</td>\n",
       "      <td>401</td>\n",
       "      <td>401</td>\n",
       "      <td>401</td>\n",
       "      <td>401</td>\n",
       "      <td>401</td>\n",
       "      <td>401</td>\n",
       "      <td>401</td>\n",
       "      <td>401</td>\n",
       "      <td>401</td>\n",
       "    </tr>\n",
       "    <tr>\n",
       "      <td>A7</td>\n",
       "      <td>820</td>\n",
       "      <td>820</td>\n",
       "      <td>820</td>\n",
       "      <td>820</td>\n",
       "      <td>820</td>\n",
       "      <td>820</td>\n",
       "      <td>820</td>\n",
       "      <td>820</td>\n",
       "      <td>820</td>\n",
       "      <td>820</td>\n",
       "      <td>820</td>\n",
       "      <td>820</td>\n",
       "      <td>820</td>\n",
       "      <td>820</td>\n",
       "    </tr>\n",
       "    <tr>\n",
       "      <td>B2</td>\n",
       "      <td>3246</td>\n",
       "      <td>3246</td>\n",
       "      <td>3246</td>\n",
       "      <td>3246</td>\n",
       "      <td>3246</td>\n",
       "      <td>3246</td>\n",
       "      <td>3246</td>\n",
       "      <td>3246</td>\n",
       "      <td>3246</td>\n",
       "      <td>3246</td>\n",
       "      <td>3246</td>\n",
       "      <td>3246</td>\n",
       "      <td>3246</td>\n",
       "      <td>3246</td>\n",
       "    </tr>\n",
       "    <tr>\n",
       "      <td>B3</td>\n",
       "      <td>2405</td>\n",
       "      <td>2405</td>\n",
       "      <td>2405</td>\n",
       "      <td>2405</td>\n",
       "      <td>2405</td>\n",
       "      <td>2405</td>\n",
       "      <td>2405</td>\n",
       "      <td>2405</td>\n",
       "      <td>2405</td>\n",
       "      <td>2405</td>\n",
       "      <td>2405</td>\n",
       "      <td>2405</td>\n",
       "      <td>2405</td>\n",
       "      <td>2405</td>\n",
       "    </tr>\n",
       "  </tbody>\n",
       "</table>\n",
       "</div>"
      ],
      "text/plain": [
       "          INCIDENT_NUMBER  OFFENSE_CODE  OFFENSE_CODE_GROUP  \\\n",
       "DISTRICT                                                      \n",
       "A1                   2260          2260                2260   \n",
       "A15                   401           401                 401   \n",
       "A7                    820           820                 820   \n",
       "B2                   3246          3246                3246   \n",
       "B3                   2405          2405                2405   \n",
       "\n",
       "          OFFENSE_DESCRIPTION  REPORTING_AREA  YEAR  MONTH  DAY_OF_WEEK  HOUR  \\\n",
       "DISTRICT                                                                        \n",
       "A1                       2260            2260  2260   2260         2260  2260   \n",
       "A15                       401             401   401    401          401   401   \n",
       "A7                        820             820   820    820          820   820   \n",
       "B2                       3246            3246  3246   3246         3246  3246   \n",
       "B3                       2405            2405  2405   2405         2405  2405   \n",
       "\n",
       "          UCR_PART  STREET   Lat  Long  Location  \n",
       "DISTRICT                                          \n",
       "A1            2260    2260  2260  2260      2260  \n",
       "A15            401     401   401   401       401  \n",
       "A7             820     820   820   820       820  \n",
       "B2            3246    3246  3246  3246      3246  \n",
       "B3            2405    2405  2405  2405      2405  "
      ]
     },
     "execution_count": 15,
     "metadata": {},
     "output_type": "execute_result"
    }
   ],
   "source": [
    "disgroup=df_c.groupby(by='DISTRICT')\n",
    "groupcount=disgroup.count()\n",
    "groupcount.head()"
   ]
  },
  {
   "cell_type": "code",
   "execution_count": 16,
   "metadata": {},
   "outputs": [],
   "source": [
    "number=groupcount.iloc[:,0]\n",
    "number=pd.DataFrame(number)"
   ]
  },
  {
   "cell_type": "code",
   "execution_count": 17,
   "metadata": {},
   "outputs": [
    {
     "data": {
      "text/html": [
       "<div>\n",
       "<style scoped>\n",
       "    .dataframe tbody tr th:only-of-type {\n",
       "        vertical-align: middle;\n",
       "    }\n",
       "\n",
       "    .dataframe tbody tr th {\n",
       "        vertical-align: top;\n",
       "    }\n",
       "\n",
       "    .dataframe thead th {\n",
       "        text-align: right;\n",
       "    }\n",
       "</style>\n",
       "<table border=\"1\" class=\"dataframe\">\n",
       "  <thead>\n",
       "    <tr style=\"text-align: right;\">\n",
       "      <th></th>\n",
       "      <th>NUMBER</th>\n",
       "    </tr>\n",
       "    <tr>\n",
       "      <th>DISTRICT</th>\n",
       "      <th></th>\n",
       "    </tr>\n",
       "  </thead>\n",
       "  <tbody>\n",
       "    <tr>\n",
       "      <td>A1</td>\n",
       "      <td>2260</td>\n",
       "    </tr>\n",
       "    <tr>\n",
       "      <td>A15</td>\n",
       "      <td>401</td>\n",
       "    </tr>\n",
       "    <tr>\n",
       "      <td>A7</td>\n",
       "      <td>820</td>\n",
       "    </tr>\n",
       "    <tr>\n",
       "      <td>B2</td>\n",
       "      <td>3246</td>\n",
       "    </tr>\n",
       "    <tr>\n",
       "      <td>B3</td>\n",
       "      <td>2405</td>\n",
       "    </tr>\n",
       "  </tbody>\n",
       "</table>\n",
       "</div>"
      ],
      "text/plain": [
       "          NUMBER\n",
       "DISTRICT        \n",
       "A1          2260\n",
       "A15          401\n",
       "A7           820\n",
       "B2          3246\n",
       "B3          2405"
      ]
     },
     "execution_count": 17,
     "metadata": {},
     "output_type": "execute_result"
    }
   ],
   "source": [
    "number.rename(columns={'INCIDENT_NUMBER':'NUMBER'},inplace=True)\n",
    "number.head()"
   ]
  },
  {
   "cell_type": "markdown",
   "metadata": {},
   "source": [
    "### 2015-2018 boston-crime by district bar plot"
   ]
  },
  {
   "cell_type": "code",
   "execution_count": 18,
   "metadata": {},
   "outputs": [
    {
     "data": {
      "image/png": "[encoded data removed]",
      "text/plain": [
       "<Figure size 1080x1008 with 1 Axes>"
      ]
     },
     "metadata": {},
     "output_type": "display_data"
    }
   ],
   "source": [
    "plt.figure(figsize=(15,14))\n",
    "plt.title(r'2015-2018 boston-crime by district bar plot')\n",
    "p1=sns.barplot(x=number.index,y='NUMBER',data=number)\n",
    "x=np.arange(number.index.shape[0])\n",
    "y=np.array(list(number['NUMBER']))\n",
    "for i,j in zip(x,y):\n",
    "    plt.text(i,j+0.05,'%d'%j,ha='center')\n",
    "else:\n",
    "    pass\n",
    "p1fig=p1.get_figure()\n",
    "p1fig.savefig('./total_by_district_bar.png')\n",
    "plt.show()"
   ]
  },
  {
   "cell_type": "code",
   "execution_count": 19,
   "metadata": {},
   "outputs": [
    {
     "data": {
      "text/html": [
       "<div>\n",
       "<style scoped>\n",
       "    .dataframe tbody tr th:only-of-type {\n",
       "        vertical-align: middle;\n",
       "    }\n",
       "\n",
       "    .dataframe tbody tr th {\n",
       "        vertical-align: top;\n",
       "    }\n",
       "\n",
       "    .dataframe thead th {\n",
       "        text-align: right;\n",
       "    }\n",
       "</style>\n",
       "<table border=\"1\" class=\"dataframe\">\n",
       "  <thead>\n",
       "    <tr style=\"text-align: right;\">\n",
       "      <th></th>\n",
       "      <th>INCIDENT_NUMBER</th>\n",
       "      <th>OFFENSE_CODE</th>\n",
       "      <th>OFFENSE_CODE_GROUP</th>\n",
       "      <th>OFFENSE_DESCRIPTION</th>\n",
       "      <th>DISTRICT</th>\n",
       "      <th>REPORTING_AREA</th>\n",
       "      <th>YEAR</th>\n",
       "      <th>MONTH</th>\n",
       "      <th>DAY_OF_WEEK</th>\n",
       "      <th>HOUR</th>\n",
       "      <th>UCR_PART</th>\n",
       "      <th>STREET</th>\n",
       "      <th>Lat</th>\n",
       "      <th>Long</th>\n",
       "      <th>Location</th>\n",
       "    </tr>\n",
       "  </thead>\n",
       "  <tbody>\n",
       "    <tr>\n",
       "      <td>243762</td>\n",
       "      <td>I172031576</td>\n",
       "      <td>802</td>\n",
       "      <td>Simple Assault</td>\n",
       "      <td>ASSAULT SIMPLE - BATTERY</td>\n",
       "      <td>D4</td>\n",
       "      <td>170</td>\n",
       "      <td>2017</td>\n",
       "      <td>4</td>\n",
       "      <td>Sunday</td>\n",
       "      <td>11</td>\n",
       "      <td>Part Two</td>\n",
       "      <td>E SPRINGFIELD ST</td>\n",
       "      <td>42.335459</td>\n",
       "      <td>-71.074489</td>\n",
       "      <td>(42.33545950, -71.07448891)</td>\n",
       "    </tr>\n",
       "    <tr>\n",
       "      <td>335019</td>\n",
       "      <td>I162040341</td>\n",
       "      <td>1106</td>\n",
       "      <td>Confidence Games</td>\n",
       "      <td>FRAUD - CREDIT CARD / ATM FRAUD</td>\n",
       "      <td>B2</td>\n",
       "      <td></td>\n",
       "      <td>2016</td>\n",
       "      <td>5</td>\n",
       "      <td>Monday</td>\n",
       "      <td>18</td>\n",
       "      <td>Part Two</td>\n",
       "      <td>ARION</td>\n",
       "      <td>42.325024</td>\n",
       "      <td>-71.077683</td>\n",
       "      <td>(0.00000000, 0.00000000)</td>\n",
       "    </tr>\n",
       "    <tr>\n",
       "      <td>100880</td>\n",
       "      <td>I182075189</td>\n",
       "      <td>2646</td>\n",
       "      <td>Liquor Violation</td>\n",
       "      <td>LIQUOR - DRINKING IN PUBLIC</td>\n",
       "      <td>B2</td>\n",
       "      <td>181</td>\n",
       "      <td>2018</td>\n",
       "      <td>9</td>\n",
       "      <td>Monday</td>\n",
       "      <td>20</td>\n",
       "      <td>Part Two</td>\n",
       "      <td>NORFOLK AVE</td>\n",
       "      <td>42.325877</td>\n",
       "      <td>-71.070249</td>\n",
       "      <td>(42.32587659, -71.07024947)</td>\n",
       "    </tr>\n",
       "    <tr>\n",
       "      <td>414322</td>\n",
       "      <td>I152062097</td>\n",
       "      <td>619</td>\n",
       "      <td>Larceny</td>\n",
       "      <td>LARCENY ALL OTHERS</td>\n",
       "      <td>E5</td>\n",
       "      <td>746</td>\n",
       "      <td>2015</td>\n",
       "      <td>7</td>\n",
       "      <td>Wednesday</td>\n",
       "      <td>10</td>\n",
       "      <td>Part One</td>\n",
       "      <td>LAGRANGE ST</td>\n",
       "      <td>42.292778</td>\n",
       "      <td>-71.169897</td>\n",
       "      <td>(42.29277797, -71.16989709)</td>\n",
       "    </tr>\n",
       "    <tr>\n",
       "      <td>223906</td>\n",
       "      <td>I172052789</td>\n",
       "      <td>3115</td>\n",
       "      <td>Investigate Person</td>\n",
       "      <td>INVESTIGATE PERSON</td>\n",
       "      <td>C6</td>\n",
       "      <td>936</td>\n",
       "      <td>2017</td>\n",
       "      <td>6</td>\n",
       "      <td>Friday</td>\n",
       "      <td>17</td>\n",
       "      <td>Part Three</td>\n",
       "      <td>FLAHERTY WAY</td>\n",
       "      <td>42.337947</td>\n",
       "      <td>-71.053105</td>\n",
       "      <td>(42.33794745, -71.05310513)</td>\n",
       "    </tr>\n",
       "  </tbody>\n",
       "</table>\n",
       "</div>"
      ],
      "text/plain": [
       "       INCIDENT_NUMBER  OFFENSE_CODE  OFFENSE_CODE_GROUP  \\\n",
       "243762      I172031576           802      Simple Assault   \n",
       "335019      I162040341          1106    Confidence Games   \n",
       "100880      I182075189          2646    Liquor Violation   \n",
       "414322      I152062097           619             Larceny   \n",
       "223906      I172052789          3115  Investigate Person   \n",
       "\n",
       "                    OFFENSE_DESCRIPTION DISTRICT REPORTING_AREA  YEAR  MONTH  \\\n",
       "243762         ASSAULT SIMPLE - BATTERY       D4            170  2017      4   \n",
       "335019  FRAUD - CREDIT CARD / ATM FRAUD       B2                 2016      5   \n",
       "100880      LIQUOR - DRINKING IN PUBLIC       B2            181  2018      9   \n",
       "414322               LARCENY ALL OTHERS       E5            746  2015      7   \n",
       "223906               INVESTIGATE PERSON       C6            936  2017      6   \n",
       "\n",
       "       DAY_OF_WEEK  HOUR    UCR_PART            STREET        Lat       Long  \\\n",
       "243762      Sunday    11    Part Two  E SPRINGFIELD ST  42.335459 -71.074489   \n",
       "335019      Monday    18    Part Two             ARION  42.325024 -71.077683   \n",
       "100880      Monday    20    Part Two       NORFOLK AVE  42.325877 -71.070249   \n",
       "414322   Wednesday    10    Part One       LAGRANGE ST  42.292778 -71.169897   \n",
       "223906      Friday    17  Part Three      FLAHERTY WAY  42.337947 -71.053105   \n",
       "\n",
       "                           Location  \n",
       "243762  (42.33545950, -71.07448891)  \n",
       "335019     (0.00000000, 0.00000000)  \n",
       "100880  (42.32587659, -71.07024947)  \n",
       "414322  (42.29277797, -71.16989709)  \n",
       "223906  (42.33794745, -71.05310513)  "
      ]
     },
     "execution_count": 19,
     "metadata": {},
     "output_type": "execute_result"
    }
   ],
   "source": [
    "df_c.head()"
   ]
  },
  {
   "cell_type": "code",
   "execution_count": 20,
   "metadata": {},
   "outputs": [
    {
     "data": {
      "text/plain": [
       "<seaborn.axisgrid.PairGrid at 0x24e3458ab38>"
      ]
     },
     "execution_count": 20,
     "metadata": {},
     "output_type": "execute_result"
    },
    {
     "data": {
      "image/png": "[encoded data removed]",
      "text/plain": [
       "<Figure size 424.225x360 with 6 Axes>"
      ]
     },
     "metadata": {},
     "output_type": "display_data"
    }
   ],
   "source": [
    "sns.set()\n",
    "sns.pairplot(df_c[['OFFENSE_CODE_GROUP', 'OFFENSE_CODE','REPORTING_AREA' ,'DISTRICT','YEAR']],\n",
    "             hue='YEAR', diag_kind=\"kde\")"
   ]
  },
  {
   "cell_type": "markdown",
   "metadata": {},
   "source": [
    "## Pre-processing"
   ]
  },
  {
   "cell_type": "code",
   "execution_count": 21,
   "metadata": {},
   "outputs": [
    {
     "data": {
      "text/html": [
       "<div>\n",
       "<style scoped>\n",
       "    .dataframe tbody tr th:only-of-type {\n",
       "        vertical-align: middle;\n",
       "    }\n",
       "\n",
       "    .dataframe tbody tr th {\n",
       "        vertical-align: top;\n",
       "    }\n",
       "\n",
       "    .dataframe thead th {\n",
       "        text-align: right;\n",
       "    }\n",
       "</style>\n",
       "<table border=\"1\" class=\"dataframe\">\n",
       "  <thead>\n",
       "    <tr style=\"text-align: right;\">\n",
       "      <th></th>\n",
       "      <th>YEAR</th>\n",
       "      <th>2015</th>\n",
       "      <th>2016</th>\n",
       "      <th>2017</th>\n",
       "      <th>2018</th>\n",
       "      <th>2019</th>\n",
       "    </tr>\n",
       "    <tr>\n",
       "      <th>OFFENSE_CODE_GROUP</th>\n",
       "      <th>DISTRICT</th>\n",
       "      <th></th>\n",
       "      <th></th>\n",
       "      <th></th>\n",
       "      <th></th>\n",
       "      <th></th>\n",
       "    </tr>\n",
       "  </thead>\n",
       "  <tbody>\n",
       "    <tr>\n",
       "      <td rowspan=\"5\" valign=\"top\">Aggravated Assault</td>\n",
       "      <td>A1</td>\n",
       "      <td>5</td>\n",
       "      <td>7</td>\n",
       "      <td>12</td>\n",
       "      <td>21</td>\n",
       "      <td>13</td>\n",
       "    </tr>\n",
       "    <tr>\n",
       "      <td>A15</td>\n",
       "      <td>1</td>\n",
       "      <td>1</td>\n",
       "      <td>3</td>\n",
       "      <td>0</td>\n",
       "      <td>0</td>\n",
       "    </tr>\n",
       "    <tr>\n",
       "      <td>A7</td>\n",
       "      <td>7</td>\n",
       "      <td>1</td>\n",
       "      <td>3</td>\n",
       "      <td>3</td>\n",
       "      <td>3</td>\n",
       "    </tr>\n",
       "    <tr>\n",
       "      <td>B2</td>\n",
       "      <td>20</td>\n",
       "      <td>24</td>\n",
       "      <td>32</td>\n",
       "      <td>27</td>\n",
       "      <td>18</td>\n",
       "    </tr>\n",
       "    <tr>\n",
       "      <td>B3</td>\n",
       "      <td>13</td>\n",
       "      <td>13</td>\n",
       "      <td>19</td>\n",
       "      <td>14</td>\n",
       "      <td>11</td>\n",
       "    </tr>\n",
       "    <tr>\n",
       "      <td>...</td>\n",
       "      <td>...</td>\n",
       "      <td>...</td>\n",
       "      <td>...</td>\n",
       "      <td>...</td>\n",
       "      <td>...</td>\n",
       "      <td>...</td>\n",
       "    </tr>\n",
       "    <tr>\n",
       "      <td rowspan=\"5\" valign=\"top\">Warrant Arrests</td>\n",
       "      <td>D14</td>\n",
       "      <td>2</td>\n",
       "      <td>4</td>\n",
       "      <td>5</td>\n",
       "      <td>7</td>\n",
       "      <td>3</td>\n",
       "    </tr>\n",
       "    <tr>\n",
       "      <td>D4</td>\n",
       "      <td>5</td>\n",
       "      <td>20</td>\n",
       "      <td>29</td>\n",
       "      <td>18</td>\n",
       "      <td>11</td>\n",
       "    </tr>\n",
       "    <tr>\n",
       "      <td>E13</td>\n",
       "      <td>6</td>\n",
       "      <td>7</td>\n",
       "      <td>11</td>\n",
       "      <td>9</td>\n",
       "      <td>2</td>\n",
       "    </tr>\n",
       "    <tr>\n",
       "      <td>E18</td>\n",
       "      <td>1</td>\n",
       "      <td>8</td>\n",
       "      <td>6</td>\n",
       "      <td>4</td>\n",
       "      <td>2</td>\n",
       "    </tr>\n",
       "    <tr>\n",
       "      <td>E5</td>\n",
       "      <td>2</td>\n",
       "      <td>1</td>\n",
       "      <td>3</td>\n",
       "      <td>1</td>\n",
       "      <td>2</td>\n",
       "    </tr>\n",
       "  </tbody>\n",
       "</table>\n",
       "<p>605 rows × 5 columns</p>\n",
       "</div>"
      ],
      "text/plain": [
       "YEAR                         2015  2016  2017  2018  2019\n",
       "OFFENSE_CODE_GROUP DISTRICT                              \n",
       "Aggravated Assault A1           5     7    12    21    13\n",
       "                   A15          1     1     3     0     0\n",
       "                   A7           7     1     3     3     3\n",
       "                   B2          20    24    32    27    18\n",
       "                   B3          13    13    19    14    11\n",
       "...                           ...   ...   ...   ...   ...\n",
       "Warrant Arrests    D14          2     4     5     7     3\n",
       "                   D4           5    20    29    18    11\n",
       "                   E13          6     7    11     9     2\n",
       "                   E18          1     8     6     4     2\n",
       "                   E5           2     1     3     1     2\n",
       "\n",
       "[605 rows x 5 columns]"
      ]
     },
     "execution_count": 21,
     "metadata": {},
     "output_type": "execute_result"
    }
   ],
   "source": [
    "pd.crosstab([df_c['OFFENSE_CODE_GROUP'],df_c['DISTRICT']],df_c['YEAR'])"
   ]
  },
  {
   "cell_type": "code",
   "execution_count": 22,
   "metadata": {},
   "outputs": [],
   "source": [
    "df_c=df_c.drop(['OFFENSE_DESCRIPTION','UCR_PART','STREET','INCIDENT_NUMBER','Location','DAY_OF_WEEK','REPORTING_AREA'],axis=1)"
   ]
  },
  {
   "cell_type": "markdown",
   "metadata": {},
   "source": [
    "### One-Hot Encoding"
   ]
  },
  {
   "cell_type": "code",
   "execution_count": 23,
   "metadata": {},
   "outputs": [],
   "source": [
    "one_hot = pd.get_dummies(df_c['DISTRICT'])\n",
    "df_c = df_c.drop('DISTRICT', axis=1)\n",
    "df_c = df_c.join(one_hot)\n",
    "\n",
    "one_hot = pd.get_dummies(df_c['OFFENSE_CODE_GROUP'])\n",
    "df_c = df_c.drop('OFFENSE_CODE_GROUP', axis=1)\n",
    "df_c = df_c.join(one_hot)"
   ]
  },
  {
   "cell_type": "code",
   "execution_count": 24,
   "metadata": {},
   "outputs": [
    {
     "name": "stdout",
     "output_type": "stream",
     "text": [
      "<class 'pandas.core.frame.DataFrame'>\n",
      "Int64Index: 20596 entries, 243762 to 43264\n",
      "Data columns (total 76 columns):\n",
      "OFFENSE_CODE                        20596 non-null int64\n",
      "YEAR                                20596 non-null int64\n",
      "MONTH                               20596 non-null int64\n",
      "HOUR                                20596 non-null int64\n",
      "Lat                                 20596 non-null float64\n",
      "Long                                20596 non-null float64\n",
      "A1                                  20596 non-null uint8\n",
      "A15                                 20596 non-null uint8\n",
      "A7                                  20596 non-null uint8\n",
      "B2                                  20596 non-null uint8\n",
      "B3                                  20596 non-null uint8\n",
      "C11                                 20596 non-null uint8\n",
      "C6                                  20596 non-null uint8\n",
      "D14                                 20596 non-null uint8\n",
      "D4                                  20596 non-null uint8\n",
      "E13                                 20596 non-null uint8\n",
      "E18                                 20596 non-null uint8\n",
      "E5                                  20596 non-null uint8\n",
      "Aggravated Assault                  20596 non-null uint8\n",
      "Aircraft                            20596 non-null uint8\n",
      "Arson                               20596 non-null uint8\n",
      "Assembly or Gathering Violations    20596 non-null uint8\n",
      "Auto Theft                          20596 non-null uint8\n",
      "Auto Theft Recovery                 20596 non-null uint8\n",
      "Ballistics                          20596 non-null uint8\n",
      "Bomb Hoax                           20596 non-null uint8\n",
      "Commercial Burglary                 20596 non-null uint8\n",
      "Confidence Games                    20596 non-null uint8\n",
      "Counterfeiting                      20596 non-null uint8\n",
      "Criminal Harassment                 20596 non-null uint8\n",
      "Disorderly Conduct                  20596 non-null uint8\n",
      "Drug Violation                      20596 non-null uint8\n",
      "Embezzlement                        20596 non-null uint8\n",
      "Evading Fare                        20596 non-null uint8\n",
      "Fire Related Reports                20596 non-null uint8\n",
      "Firearm Discovery                   20596 non-null uint8\n",
      "Firearm Violations                  20596 non-null uint8\n",
      "Fraud                               20596 non-null uint8\n",
      "Harassment                          20596 non-null uint8\n",
      "Harbor Related Incidents            20596 non-null uint8\n",
      "Homicide                            20596 non-null uint8\n",
      "Investigate Person                  20596 non-null uint8\n",
      "Investigate Property                20596 non-null uint8\n",
      "Landlord/Tenant Disputes            20596 non-null uint8\n",
      "Larceny                             20596 non-null uint8\n",
      "Larceny From Motor Vehicle          20596 non-null uint8\n",
      "License Plate Related Incidents     20596 non-null uint8\n",
      "License Violation                   20596 non-null uint8\n",
      "Liquor Violation                    20596 non-null uint8\n",
      "Medical Assistance                  20596 non-null uint8\n",
      "Missing Person Located              20596 non-null uint8\n",
      "Missing Person Reported             20596 non-null uint8\n",
      "Motor Vehicle Accident Response     20596 non-null uint8\n",
      "Offenses Against Child / Family     20596 non-null uint8\n",
      "Operating Under the Influence       20596 non-null uint8\n",
      "Other                               20596 non-null uint8\n",
      "Other Burglary                      20596 non-null uint8\n",
      "Phone Call Complaints               20596 non-null uint8\n",
      "Police Service Incidents            20596 non-null uint8\n",
      "Prisoner Related Incidents          20596 non-null uint8\n",
      "Property Found                      20596 non-null uint8\n",
      "Property Lost                       20596 non-null uint8\n",
      "Property Related Damage             20596 non-null uint8\n",
      "Prostitution                        20596 non-null uint8\n",
      "Recovered Stolen Property           20596 non-null uint8\n",
      "Residential Burglary                20596 non-null uint8\n",
      "Restraining Order Violations        20596 non-null uint8\n",
      "Robbery                             20596 non-null uint8\n",
      "Search Warrants                     20596 non-null uint8\n",
      "Service                             20596 non-null uint8\n",
      "Simple Assault                      20596 non-null uint8\n",
      "Towed                               20596 non-null uint8\n",
      "Vandalism                           20596 non-null uint8\n",
      "Verbal Disputes                     20596 non-null uint8\n",
      "Violations                          20596 non-null uint8\n",
      "Warrant Arrests                     20596 non-null uint8\n",
      "dtypes: float64(2), int64(4), uint8(70)\n",
      "memory usage: 3.1 MB\n"
     ]
    }
   ],
   "source": [
    "df_c.info()"
   ]
  },
  {
   "cell_type": "markdown",
   "metadata": {},
   "source": [
    "## Train&Test Split"
   ]
  },
  {
   "cell_type": "code",
   "execution_count": 25,
   "metadata": {},
   "outputs": [
    {
     "name": "stdout",
     "output_type": "stream",
     "text": [
      "(14417, 76) (6179, 76)\n"
     ]
    }
   ],
   "source": [
    "from sklearn.model_selection import train_test_split\n",
    "train_set, test_set = train_test_split(df_c, test_size=0.3, random_state=42)\n",
    "print(train_set.shape,test_set.shape)"
   ]
  },
  {
   "cell_type": "code",
   "execution_count": 26,
   "metadata": {},
   "outputs": [],
   "source": [
    "target = 'YEAR'\n",
    "features = list(train_set.columns)\n",
    "features = [f for f in features if f!=target]"
   ]
  },
  {
   "cell_type": "code",
   "execution_count": 27,
   "metadata": {},
   "outputs": [],
   "source": [
    "X_tr = train_set[features]\n",
    "y_tr = train_set[[target]]\n",
    "\n",
    "X_te = test_set[features]\n",
    "y_te = test_set[[target]]"
   ]
  },
  {
   "cell_type": "code",
   "execution_count": 28,
   "metadata": {},
   "outputs": [
    {
     "name": "stdout",
     "output_type": "stream",
     "text": [
      "(14417, 75) (14417, 1)\n",
      "(6179, 75) (6179, 1)\n"
     ]
    }
   ],
   "source": [
    "print(X_tr.shape,y_tr.shape)\n",
    "print(X_te.shape,y_te.shape)"
   ]
  },
  {
   "cell_type": "code",
   "execution_count": 29,
   "metadata": {},
   "outputs": [],
   "source": [
    "y_tr_b = 1*np.ravel(y_tr>=2017)\n",
    "y_te_b = 1*np.ravel(y_te>=2017)"
   ]
  },
  {
   "cell_type": "code",
   "execution_count": 30,
   "metadata": {},
   "outputs": [
    {
     "name": "stdout",
     "output_type": "stream",
     "text": [
      "[0 1 1 ... 0 0 1]\n"
     ]
    }
   ],
   "source": [
    "print(y_tr_b)\n"
   ]
  },
  {
   "cell_type": "markdown",
   "metadata": {},
   "source": [
    "## DecisionTreeClassifier"
   ]
  },
  {
   "cell_type": "code",
   "execution_count": 31,
   "metadata": {},
   "outputs": [],
   "source": [
    "from sklearn.tree import DecisionTreeClassifier\n",
    "\n",
    "from sklearn.model_selection import GridSearchCV\n",
    "\n",
    "\n",
    "clf = DecisionTreeClassifier(criterion='entropy',max_depth=3)\n",
    "clf = clf.fit(X_tr, y_tr_b)"
   ]
  },
  {
   "cell_type": "code",
   "execution_count": 32,
   "metadata": {},
   "outputs": [
    {
     "data": {
      "text/plain": [
       "array([1, 1, 1, ..., 1, 1, 1])"
      ]
     },
     "execution_count": 32,
     "metadata": {},
     "output_type": "execute_result"
    }
   ],
   "source": [
    "y_pred=clf.predict(X_tr)\n",
    "y_pred\n"
   ]
  },
  {
   "cell_type": "markdown",
   "metadata": {},
   "source": [
    "### Accuracy Score for Testdata and Traindata"
   ]
  },
  {
   "cell_type": "code",
   "execution_count": 33,
   "metadata": {},
   "outputs": [
    {
     "data": {
      "text/plain": [
       "0.6468752167579941"
      ]
     },
     "execution_count": 33,
     "metadata": {},
     "output_type": "execute_result"
    }
   ],
   "source": [
    "from sklearn.metrics import accuracy_score\n",
    "\n",
    "y_pred = clf.predict(X_tr)\n",
    "accuracy_score(y_tr_b, y_pred)"
   ]
  },
  {
   "cell_type": "code",
   "execution_count": 34,
   "metadata": {},
   "outputs": [],
   "source": [
    "clf = clf.fit(X_te, y_te_b)"
   ]
  },
  {
   "cell_type": "code",
   "execution_count": 35,
   "metadata": {},
   "outputs": [
    {
     "data": {
      "text/plain": [
       "0.6552840265415115"
      ]
     },
     "execution_count": 35,
     "metadata": {},
     "output_type": "execute_result"
    }
   ],
   "source": [
    "from sklearn.metrics import accuracy_score\n",
    "\n",
    "y_pred_t = clf.predict(X_te)\n",
    "accuracy_score(y_te_b, y_pred_t)"
   ]
  },
  {
   "cell_type": "markdown",
   "metadata": {},
   "source": [
    "### Confusion Matrix and precision,recall,f1-score for TestData   "
   ]
  },
  {
   "cell_type": "code",
   "execution_count": 36,
   "metadata": {},
   "outputs": [],
   "source": [
    "from sklearn.metrics import classification_report\n",
    "from sklearn.metrics import confusion_matrix"
   ]
  },
  {
   "cell_type": "code",
   "execution_count": 37,
   "metadata": {},
   "outputs": [
    {
     "name": "stdout",
     "output_type": "stream",
     "text": [
      "[[  34 2120]\n",
      " [  10 4015]]\n",
      "              precision    recall  f1-score   support\n",
      "\n",
      "           0       0.77      0.02      0.03      2154\n",
      "           1       0.65      1.00      0.79      4025\n",
      "\n",
      "    accuracy                           0.66      6179\n",
      "   macro avg       0.71      0.51      0.41      6179\n",
      "weighted avg       0.70      0.66      0.53      6179\n",
      "\n"
     ]
    }
   ],
   "source": [
    "print(confusion_matrix(y_te_b, y_pred_t))\n",
    "print(classification_report(y_te_b, y_pred_t))"
   ]
  },
  {
   "cell_type": "markdown",
   "metadata": {},
   "source": [
    "## Logistic Regression"
   ]
  },
  {
   "cell_type": "code",
   "execution_count": 38,
   "metadata": {},
   "outputs": [
    {
     "name": "stdout",
     "output_type": "stream",
     "text": [
      "[1 1 1 ... 1 1 1]\n",
      "[1 1 1 ... 1 1 1]\n",
      "[1 1 1 ... 1 1 1]\n",
      "[1 1 1 ... 1 1 1]\n",
      "[1 1 1 ... 1 1 1]\n",
      "[1 1 1 ... 0 1 1]\n"
     ]
    },
    {
     "data": {
      "text/plain": [
       "Text(0, 0.5, 'Accuracy')"
      ]
     },
     "execution_count": 38,
     "metadata": {},
     "output_type": "execute_result"
    },
    {
     "data": {
      "image/png": "[encoded data removed]",
      "text/plain": [
       "<Figure size 432x288 with 1 Axes>"
      ]
     },
     "metadata": {},
     "output_type": "display_data"
    }
   ],
   "source": [
    "from sklearn.linear_model import LogisticRegression\n",
    "\n",
    "\n",
    "C = [ 0.001, 0.01, 0.1, 0.5, 1.0,  5]\n",
    "\n",
    "LRtestAcc = []\n",
    "LRtrainAcc = []\n",
    "\n",
    "for param in C:\n",
    "    clf = LogisticRegression(C=param)\n",
    "    clf.fit(X_tr,y_tr_b)\n",
    "    log_reg_pred_train = clf.predict(X_tr)\n",
    "    log_reg_pred = clf.predict(X_te)\n",
    "    print(log_reg_pred)\n",
    "    LRtestAcc.append(accuracy_score(y_te_b, log_reg_pred))\n",
    "    LRtrainAcc.append(accuracy_score(y_tr_b,log_reg_pred_train))\n",
    "    \n",
    "    \n",
    "\n",
    "plt.plot(C, LRtestAcc,'bv--',C,LRtrainAcc,'ro--')\n",
    "plt.legend(['Test Accuracy','Train Accuracy'])\n",
    "plt.xlabel('C')\n",
    "plt.xscale('log')\n",
    "plt.ylabel('Accuracy')  "
   ]
  },
  {
   "cell_type": "markdown",
   "metadata": {},
   "source": [
    "## Naive Bayes Classifier"
   ]
  },
  {
   "cell_type": "code",
   "execution_count": 39,
   "metadata": {},
   "outputs": [
    {
     "name": "stdout",
     "output_type": "stream",
     "text": [
      "[0 0 1 ... 0 1 1]\n",
      "Accuracy on test data is 0.63\n"
     ]
    }
   ],
   "source": [
    "from sklearn.naive_bayes import GaussianNB\n",
    "\n",
    "clf_NB = GaussianNB()\n",
    "clf_NB.fit(X_tr,y_tr_b)\n",
    "NB_pred = clf_NB.predict(X_te)\n",
    "print(NB_pred)\n",
    "\n",
    "print('Accuracy on test data is %.2f' % (accuracy_score(y_te_b, NB_pred)))"
   ]
  },
  {
   "cell_type": "markdown",
   "metadata": {},
   "source": [
    "## Support Vector Machine (SVM) Classifier"
   ]
  },
  {
   "cell_type": "code",
   "execution_count": 40,
   "metadata": {},
   "outputs": [
    {
     "name": "stdout",
     "output_type": "stream",
     "text": [
      "[1 1 1 ... 0 1 1]\n",
      "[1 1 1 ... 0 1 1]\n",
      "[1 1 1 ... 0 1 1]\n",
      "[1 1 1 ... 0 1 1]\n",
      "[1 1 1 ... 0 1 1]\n",
      "[1 1 1 ... 0 1 1]\n"
     ]
    },
    {
     "data": {
      "text/plain": [
       "Text(0, 0.5, 'Accuracy')"
      ]
     },
     "execution_count": 40,
     "metadata": {},
     "output_type": "execute_result"
    },
    {
     "data": {
      "image/png": "[encoded data removed]",
      "text/plain": [
       "<Figure size 432x288 with 1 Axes>"
      ]
     },
     "metadata": {},
     "output_type": "display_data"
    }
   ],
   "source": [
    "from sklearn.svm import SVC\n",
    "\n",
    "C = [0.01, 0.1, 0.2, 0.5, 1, 5]\n",
    "\n",
    "SVMLtestAcc = []\n",
    "SVMLtrainAcc = []\n",
    "\n",
    "\n",
    "\n",
    "for param in C:\n",
    "    clf = SVC(C=param,kernel='linear')\n",
    "    clf.fit(X_tr,y_tr_b)\n",
    "    svml_pred = clf.predict(X_te)\n",
    "    svml_pred_train = clf.predict(X_tr)\n",
    "    print(svml_pred)\n",
    "    SVMLtestAcc.append(accuracy_score(y_te_b, svml_pred))\n",
    "    SVMLtrainAcc.append(accuracy_score(y_tr_b,svml_pred_train))\n",
    "\n",
    "plt.plot(C, SVMLtestAcc,'ro--', C,SVMLtrainAcc,'bv--')\n",
    "plt.legend(['Test Accuracy','Train Accuracy'])\n",
    "plt.xlabel('C')\n",
    "plt.xscale('log')\n",
    "plt.ylabel('Accuracy')  "
   ]
  },
  {
   "cell_type": "markdown",
   "metadata": {},
   "source": [
    "## Non Linear Decision Boundary"
   ]
  },
  {
   "cell_type": "code",
   "execution_count": 41,
   "metadata": {},
   "outputs": [
    {
     "name": "stdout",
     "output_type": "stream",
     "text": [
      "[1 1 1 ... 1 1 1]\n",
      "[1 1 1 ... 1 1 1]\n",
      "[1 1 1 ... 0 1 1]\n",
      "[1 1 1 ... 0 1 1]\n",
      "[1 1 1 ... 0 1 1]\n"
     ]
    },
    {
     "data": {
      "text/plain": [
       "Text(0, 0.5, 'Accuracy')"
      ]
     },
     "execution_count": 41,
     "metadata": {},
     "output_type": "execute_result"
    },
    {
     "data": {
      "image/png": "[encoded data removed]",
      "text/plain": [
       "<Figure size 432x288 with 1 Axes>"
      ]
     },
     "metadata": {},
     "output_type": "display_data"
    }
   ],
   "source": [
    "C = [0.01, 0.1, 0.2, 0.5, 1]\n",
    " \n",
    "\n",
    "SVMLtestAcc = []\n",
    "SVMLtrainAcc = []\n",
    "\n",
    "\n",
    "\n",
    "for param in C:\n",
    "    clf = SVC(C=param,kernel='rbf',gamma='auto')\n",
    "    clf.fit(X_tr,y_tr_b)\n",
    "    svml_pred = clf.predict(X_te)\n",
    "    svml_pred_train = clf.predict(X_tr)\n",
    "    print(svml_pred)\n",
    "    SVMLtestAcc.append(accuracy_score(y_te_b, svml_pred))\n",
    "    SVMLtrainAcc.append(accuracy_score(y_tr_b,svml_pred_train))\n",
    "\n",
    "plt.plot(C, SVMLtestAcc,'ro--', C,SVMLtrainAcc,'bv--')\n",
    "plt.legend(['Test Accuracy','Train Accuracy'])\n",
    "plt.xlabel('C')\n",
    "plt.xscale('log')\n",
    "plt.ylabel('Accuracy')  "
   ]
  },
  {
   "cell_type": "code",
   "execution_count": null,
   "metadata": {},
   "outputs": [],
   "source": []
  },
  {
   "cell_type": "markdown",
   "metadata": {},
   "source": [
    "## K Nearest Neighbor (KNN) Classifier"
   ]
  },
  {
   "cell_type": "code",
   "execution_count": 42,
   "metadata": {},
   "outputs": [
    {
     "name": "stdout",
     "output_type": "stream",
     "text": [
      "[1 1 0 ... 1 0 1]\n",
      "[1 0 1 ... 1 1 1]\n",
      "[1 1 1 ... 0 1 1]\n"
     ]
    },
    {
     "data": {
      "text/plain": [
       "Text(0, 0.5, 'Accuracy')"
      ]
     },
     "execution_count": 42,
     "metadata": {},
     "output_type": "execute_result"
    },
    {
     "data": {
      "image/png": "[encoded data removed]",
      "text/plain": [
       "<Figure size 432x288 with 1 Axes>"
      ]
     },
     "metadata": {},
     "output_type": "display_data"
    }
   ],
   "source": [
    "from sklearn.neighbors import KNeighborsClassifier\n",
    "\n",
    "numNeighbors = [1, 5, 10]\n",
    "testAcc = []\n",
    "trainAcc = []\n",
    "\n",
    "for k in numNeighbors:\n",
    "    clf = KNeighborsClassifier(n_neighbors=k, metric='minkowski', p=2)\n",
    "    clf.fit(X_tr, y_tr_b)\n",
    "    knn_pred = clf.predict(X_te)\n",
    "    knn_pred_train = clf.predict(X_tr)\n",
    "    print(knn_pred)\n",
    "    testAcc.append(accuracy_score(y_te_b, knn_pred))\n",
    "    trainAcc.append(accuracy_score(y_tr_b,knn_pred_train))\n",
    "\n",
    "plt.plot(numNeighbors, testAcc,'bv--',numNeighbors, trainAcc, 'ro--')\n",
    "plt.legend(['Test Accuracy','Train Accuacy'])\n",
    "plt.xlabel('Number of neighbors')\n",
    "plt.ylabel('Accuracy')"
   ]
  },
  {
   "cell_type": "markdown",
   "metadata": {},
   "source": [
    "## Artificial Neural Network"
   ]
  },
  {
   "cell_type": "code",
   "execution_count": 124,
   "metadata": {},
   "outputs": [],
   "source": [
    "from keras import Sequential\n",
    "from keras.layers import Dense\n",
    "import numpy as np\n",
    "from sklearn import preprocessing"
   ]
  },
  {
   "cell_type": "code",
   "execution_count": 144,
   "metadata": {},
   "outputs": [],
   "source": [
    "# Encode text values to dummy variables(i.e. [1,0,0],[0,1,0],[0,0,1] for red,green,blue)\n",
    "def encode_text_dummy(df, name):\n",
    "    dummies = pd.get_dummies(df[name])\n",
    "    for x in dummies.columns:\n",
    "        dummy_name = \"{}-{}\".format(name, x)\n",
    "        df[dummy_name] = dummies[x]\n",
    "    df.drop(name, axis=1, inplace=True)\n",
    "\n",
    "# Encode text values to indexes(i.e. [1],[2],[3] for red,green,blue).\n",
    "def encode_text_index(df, name):\n",
    "    le = preprocessing.LabelEncoder()\n",
    "    df[name] = le.fit_transform(df[name])\n",
    "    return le.classes_\n",
    "\n",
    "# Convert a Pandas dataframe to the x,y inputs that TensorFlow needs\n",
    "import collections\n",
    "def to_xy(df, target):\n",
    "    result = []\n",
    "    for x in df.columns:\n",
    "        if x != target:\n",
    "            result.append(x)\n",
    "    # find out the type of the target column. \n",
    "    target_type = df[target].dtypes\n",
    "    target_type = target_type[0] if isinstance(target_type, collections.Sequence) else target_type\n",
    "    # Encode to int for classification, float otherwise. TensorFlow likes 32 bits.\n",
    "    if target_type in (np.int64, np.int32):\n",
    "        # Classification\n",
    "        dummies = pd.get_dummies(df[target])\n",
    "        return df[result].values.astype(np.float32), dummies.values.astype(np.float32)\n",
    "    else:\n",
    "        # Regression\n",
    "        return df[result].values.astype(np.float32), df[target].values.astype(np.float32)"
   ]
  },
  {
   "cell_type": "code",
   "execution_count": 145,
   "metadata": {},
   "outputs": [],
   "source": [
    "data_df = pd.read_csv('crime.csv',header='infer')\n",
    "Classes = encode_text_index(data_df,'YEAR')"
   ]
  },
  {
   "cell_type": "code",
   "execution_count": 146,
   "metadata": {},
   "outputs": [
    {
     "data": {
      "text/plain": [
       "(21292, 15)"
      ]
     },
     "execution_count": 146,
     "metadata": {},
     "output_type": "execute_result"
    }
   ],
   "source": [
    "data_df= data_df.sample(frac=0.05)\n",
    "data_df.shape"
   ]
  },
  {
   "cell_type": "code",
   "execution_count": 147,
   "metadata": {},
   "outputs": [],
   "source": [
    "data_df = data_df.drop(['OFFENSE_DESCRIPTION','UCR_PART','STREET','INCIDENT_NUMBER','Location','DAY_OF_WEEK','REPORTING_AREA'],axis=1)\n"
   ]
  },
  {
   "cell_type": "code",
   "execution_count": 148,
   "metadata": {},
   "outputs": [
    {
     "data": {
      "text/html": [
       "<div>\n",
       "<style scoped>\n",
       "    .dataframe tbody tr th:only-of-type {\n",
       "        vertical-align: middle;\n",
       "    }\n",
       "\n",
       "    .dataframe tbody tr th {\n",
       "        vertical-align: top;\n",
       "    }\n",
       "\n",
       "    .dataframe thead th {\n",
       "        text-align: right;\n",
       "    }\n",
       "</style>\n",
       "<table border=\"1\" class=\"dataframe\">\n",
       "  <thead>\n",
       "    <tr style=\"text-align: right;\">\n",
       "      <th></th>\n",
       "      <th>OFFENSE_CODE</th>\n",
       "      <th>OFFENSE_CODE_GROUP</th>\n",
       "      <th>DISTRICT</th>\n",
       "      <th>YEAR</th>\n",
       "      <th>MONTH</th>\n",
       "      <th>HOUR</th>\n",
       "      <th>Lat</th>\n",
       "      <th>Long</th>\n",
       "    </tr>\n",
       "  </thead>\n",
       "  <tbody>\n",
       "    <tr>\n",
       "      <td>64773</td>\n",
       "      <td>3125</td>\n",
       "      <td>Warrant Arrests</td>\n",
       "      <td>B2</td>\n",
       "      <td>4</td>\n",
       "      <td>2</td>\n",
       "      <td>9</td>\n",
       "      <td>42.309957</td>\n",
       "      <td>-71.084308</td>\n",
       "    </tr>\n",
       "    <tr>\n",
       "      <td>373888</td>\n",
       "      <td>802</td>\n",
       "      <td>Simple Assault</td>\n",
       "      <td>C11</td>\n",
       "      <td>0</td>\n",
       "      <td>12</td>\n",
       "      <td>15</td>\n",
       "      <td>42.298820</td>\n",
       "      <td>-71.065701</td>\n",
       "    </tr>\n",
       "    <tr>\n",
       "      <td>335634</td>\n",
       "      <td>3301</td>\n",
       "      <td>Verbal Disputes</td>\n",
       "      <td>E5</td>\n",
       "      <td>1</td>\n",
       "      <td>5</td>\n",
       "      <td>13</td>\n",
       "      <td>42.278319</td>\n",
       "      <td>-71.133046</td>\n",
       "    </tr>\n",
       "    <tr>\n",
       "      <td>84579</td>\n",
       "      <td>1102</td>\n",
       "      <td>Fraud</td>\n",
       "      <td>D14</td>\n",
       "      <td>3</td>\n",
       "      <td>11</td>\n",
       "      <td>13</td>\n",
       "      <td>42.349330</td>\n",
       "      <td>-71.153394</td>\n",
       "    </tr>\n",
       "    <tr>\n",
       "      <td>67244</td>\n",
       "      <td>735</td>\n",
       "      <td>Auto Theft Recovery</td>\n",
       "      <td>B3</td>\n",
       "      <td>4</td>\n",
       "      <td>1</td>\n",
       "      <td>13</td>\n",
       "      <td>42.291063</td>\n",
       "      <td>-71.074872</td>\n",
       "    </tr>\n",
       "    <tr>\n",
       "      <td>...</td>\n",
       "      <td>...</td>\n",
       "      <td>...</td>\n",
       "      <td>...</td>\n",
       "      <td>...</td>\n",
       "      <td>...</td>\n",
       "      <td>...</td>\n",
       "      <td>...</td>\n",
       "      <td>...</td>\n",
       "    </tr>\n",
       "    <tr>\n",
       "      <td>171657</td>\n",
       "      <td>3410</td>\n",
       "      <td>Towed</td>\n",
       "      <td>E13</td>\n",
       "      <td>3</td>\n",
       "      <td>1</td>\n",
       "      <td>1</td>\n",
       "      <td>42.319157</td>\n",
       "      <td>-71.100676</td>\n",
       "    </tr>\n",
       "    <tr>\n",
       "      <td>3652</td>\n",
       "      <td>3115</td>\n",
       "      <td>Investigate Person</td>\n",
       "      <td>A15</td>\n",
       "      <td>4</td>\n",
       "      <td>9</td>\n",
       "      <td>16</td>\n",
       "      <td>42.378369</td>\n",
       "      <td>-71.058719</td>\n",
       "    </tr>\n",
       "    <tr>\n",
       "      <td>121507</td>\n",
       "      <td>3115</td>\n",
       "      <td>Investigate Person</td>\n",
       "      <td>B2</td>\n",
       "      <td>3</td>\n",
       "      <td>7</td>\n",
       "      <td>8</td>\n",
       "      <td>42.308789</td>\n",
       "      <td>-71.090556</td>\n",
       "    </tr>\n",
       "    <tr>\n",
       "      <td>65915</td>\n",
       "      <td>617</td>\n",
       "      <td>Larceny</td>\n",
       "      <td>C11</td>\n",
       "      <td>4</td>\n",
       "      <td>1</td>\n",
       "      <td>16</td>\n",
       "      <td>42.311920</td>\n",
       "      <td>-71.069130</td>\n",
       "    </tr>\n",
       "    <tr>\n",
       "      <td>247071</td>\n",
       "      <td>3301</td>\n",
       "      <td>Verbal Disputes</td>\n",
       "      <td>B2</td>\n",
       "      <td>2</td>\n",
       "      <td>4</td>\n",
       "      <td>20</td>\n",
       "      <td>42.324923</td>\n",
       "      <td>-71.080691</td>\n",
       "    </tr>\n",
       "  </tbody>\n",
       "</table>\n",
       "<p>21292 rows × 8 columns</p>\n",
       "</div>"
      ],
      "text/plain": [
       "        OFFENSE_CODE   OFFENSE_CODE_GROUP DISTRICT  YEAR  MONTH  HOUR  \\\n",
       "64773           3125      Warrant Arrests       B2     4      2     9   \n",
       "373888           802       Simple Assault      C11     0     12    15   \n",
       "335634          3301      Verbal Disputes       E5     1      5    13   \n",
       "84579           1102                Fraud      D14     3     11    13   \n",
       "67244            735  Auto Theft Recovery       B3     4      1    13   \n",
       "...              ...                  ...      ...   ...    ...   ...   \n",
       "171657          3410                Towed      E13     3      1     1   \n",
       "3652            3115   Investigate Person      A15     4      9    16   \n",
       "121507          3115   Investigate Person       B2     3      7     8   \n",
       "65915            617              Larceny      C11     4      1    16   \n",
       "247071          3301      Verbal Disputes       B2     2      4    20   \n",
       "\n",
       "              Lat       Long  \n",
       "64773   42.309957 -71.084308  \n",
       "373888  42.298820 -71.065701  \n",
       "335634  42.278319 -71.133046  \n",
       "84579   42.349330 -71.153394  \n",
       "67244   42.291063 -71.074872  \n",
       "...           ...        ...  \n",
       "171657  42.319157 -71.100676  \n",
       "3652    42.378369 -71.058719  \n",
       "121507  42.308789 -71.090556  \n",
       "65915   42.311920 -71.069130  \n",
       "247071  42.324923 -71.080691  \n",
       "\n",
       "[21292 rows x 8 columns]"
      ]
     },
     "execution_count": 148,
     "metadata": {},
     "output_type": "execute_result"
    }
   ],
   "source": [
    "data_df"
   ]
  },
  {
   "cell_type": "code",
   "execution_count": 149,
   "metadata": {},
   "outputs": [],
   "source": [
    "median = data_df[\"Lat\"].median()\n",
    "data_df[\"Lat\"].fillna(median, inplace=True) \n",
    "\n",
    "median = data_df[\"Long\"].median()\n",
    "data_df[\"Long\"].fillna(median, inplace=True) "
   ]
  },
  {
   "cell_type": "code",
   "execution_count": 150,
   "metadata": {},
   "outputs": [
    {
     "data": {
      "text/html": [
       "<div>\n",
       "<style scoped>\n",
       "    .dataframe tbody tr th:only-of-type {\n",
       "        vertical-align: middle;\n",
       "    }\n",
       "\n",
       "    .dataframe tbody tr th {\n",
       "        vertical-align: top;\n",
       "    }\n",
       "\n",
       "    .dataframe thead th {\n",
       "        text-align: right;\n",
       "    }\n",
       "</style>\n",
       "<table border=\"1\" class=\"dataframe\">\n",
       "  <thead>\n",
       "    <tr style=\"text-align: right;\">\n",
       "      <th></th>\n",
       "      <th>OFFENSE_CODE</th>\n",
       "      <th>OFFENSE_CODE_GROUP</th>\n",
       "      <th>DISTRICT</th>\n",
       "      <th>YEAR</th>\n",
       "      <th>MONTH</th>\n",
       "      <th>HOUR</th>\n",
       "      <th>Lat</th>\n",
       "      <th>Long</th>\n",
       "    </tr>\n",
       "  </thead>\n",
       "  <tbody>\n",
       "    <tr>\n",
       "      <td>64773</td>\n",
       "      <td>3125</td>\n",
       "      <td>Warrant Arrests</td>\n",
       "      <td>B2</td>\n",
       "      <td>4</td>\n",
       "      <td>2</td>\n",
       "      <td>9</td>\n",
       "      <td>42.309957</td>\n",
       "      <td>-71.084308</td>\n",
       "    </tr>\n",
       "    <tr>\n",
       "      <td>373888</td>\n",
       "      <td>802</td>\n",
       "      <td>Simple Assault</td>\n",
       "      <td>C11</td>\n",
       "      <td>0</td>\n",
       "      <td>12</td>\n",
       "      <td>15</td>\n",
       "      <td>42.298820</td>\n",
       "      <td>-71.065701</td>\n",
       "    </tr>\n",
       "    <tr>\n",
       "      <td>335634</td>\n",
       "      <td>3301</td>\n",
       "      <td>Verbal Disputes</td>\n",
       "      <td>E5</td>\n",
       "      <td>1</td>\n",
       "      <td>5</td>\n",
       "      <td>13</td>\n",
       "      <td>42.278319</td>\n",
       "      <td>-71.133046</td>\n",
       "    </tr>\n",
       "    <tr>\n",
       "      <td>84579</td>\n",
       "      <td>1102</td>\n",
       "      <td>Fraud</td>\n",
       "      <td>D14</td>\n",
       "      <td>3</td>\n",
       "      <td>11</td>\n",
       "      <td>13</td>\n",
       "      <td>42.349330</td>\n",
       "      <td>-71.153394</td>\n",
       "    </tr>\n",
       "    <tr>\n",
       "      <td>67244</td>\n",
       "      <td>735</td>\n",
       "      <td>Auto Theft Recovery</td>\n",
       "      <td>B3</td>\n",
       "      <td>4</td>\n",
       "      <td>1</td>\n",
       "      <td>13</td>\n",
       "      <td>42.291063</td>\n",
       "      <td>-71.074872</td>\n",
       "    </tr>\n",
       "    <tr>\n",
       "      <td>...</td>\n",
       "      <td>...</td>\n",
       "      <td>...</td>\n",
       "      <td>...</td>\n",
       "      <td>...</td>\n",
       "      <td>...</td>\n",
       "      <td>...</td>\n",
       "      <td>...</td>\n",
       "      <td>...</td>\n",
       "    </tr>\n",
       "    <tr>\n",
       "      <td>171657</td>\n",
       "      <td>3410</td>\n",
       "      <td>Towed</td>\n",
       "      <td>E13</td>\n",
       "      <td>3</td>\n",
       "      <td>1</td>\n",
       "      <td>1</td>\n",
       "      <td>42.319157</td>\n",
       "      <td>-71.100676</td>\n",
       "    </tr>\n",
       "    <tr>\n",
       "      <td>3652</td>\n",
       "      <td>3115</td>\n",
       "      <td>Investigate Person</td>\n",
       "      <td>A15</td>\n",
       "      <td>4</td>\n",
       "      <td>9</td>\n",
       "      <td>16</td>\n",
       "      <td>42.378369</td>\n",
       "      <td>-71.058719</td>\n",
       "    </tr>\n",
       "    <tr>\n",
       "      <td>121507</td>\n",
       "      <td>3115</td>\n",
       "      <td>Investigate Person</td>\n",
       "      <td>B2</td>\n",
       "      <td>3</td>\n",
       "      <td>7</td>\n",
       "      <td>8</td>\n",
       "      <td>42.308789</td>\n",
       "      <td>-71.090556</td>\n",
       "    </tr>\n",
       "    <tr>\n",
       "      <td>65915</td>\n",
       "      <td>617</td>\n",
       "      <td>Larceny</td>\n",
       "      <td>C11</td>\n",
       "      <td>4</td>\n",
       "      <td>1</td>\n",
       "      <td>16</td>\n",
       "      <td>42.311920</td>\n",
       "      <td>-71.069130</td>\n",
       "    </tr>\n",
       "    <tr>\n",
       "      <td>247071</td>\n",
       "      <td>3301</td>\n",
       "      <td>Verbal Disputes</td>\n",
       "      <td>B2</td>\n",
       "      <td>2</td>\n",
       "      <td>4</td>\n",
       "      <td>20</td>\n",
       "      <td>42.324923</td>\n",
       "      <td>-71.080691</td>\n",
       "    </tr>\n",
       "  </tbody>\n",
       "</table>\n",
       "<p>21176 rows × 8 columns</p>\n",
       "</div>"
      ],
      "text/plain": [
       "        OFFENSE_CODE   OFFENSE_CODE_GROUP DISTRICT  YEAR  MONTH  HOUR  \\\n",
       "64773           3125      Warrant Arrests       B2     4      2     9   \n",
       "373888           802       Simple Assault      C11     0     12    15   \n",
       "335634          3301      Verbal Disputes       E5     1      5    13   \n",
       "84579           1102                Fraud      D14     3     11    13   \n",
       "67244            735  Auto Theft Recovery       B3     4      1    13   \n",
       "...              ...                  ...      ...   ...    ...   ...   \n",
       "171657          3410                Towed      E13     3      1     1   \n",
       "3652            3115   Investigate Person      A15     4      9    16   \n",
       "121507          3115   Investigate Person       B2     3      7     8   \n",
       "65915            617              Larceny      C11     4      1    16   \n",
       "247071          3301      Verbal Disputes       B2     2      4    20   \n",
       "\n",
       "              Lat       Long  \n",
       "64773   42.309957 -71.084308  \n",
       "373888  42.298820 -71.065701  \n",
       "335634  42.278319 -71.133046  \n",
       "84579   42.349330 -71.153394  \n",
       "67244   42.291063 -71.074872  \n",
       "...           ...        ...  \n",
       "171657  42.319157 -71.100676  \n",
       "3652    42.378369 -71.058719  \n",
       "121507  42.308789 -71.090556  \n",
       "65915   42.311920 -71.069130  \n",
       "247071  42.324923 -71.080691  \n",
       "\n",
       "[21176 rows x 8 columns]"
      ]
     },
     "execution_count": 150,
     "metadata": {},
     "output_type": "execute_result"
    }
   ],
   "source": [
    "data_df=data_df.dropna()\n",
    "data_df"
   ]
  },
  {
   "cell_type": "code",
   "execution_count": 151,
   "metadata": {},
   "outputs": [],
   "source": [
    "one_hot = pd.get_dummies(data_df['DISTRICT'])\n",
    "data_df = data_df.drop('DISTRICT', axis=1)\n",
    "data_df = data_df.join(one_hot)"
   ]
  },
  {
   "cell_type": "code",
   "execution_count": 152,
   "metadata": {},
   "outputs": [],
   "source": [
    "one_hot = pd.get_dummies(data_df['OFFENSE_CODE_GROUP'])\n",
    "data_df = data_df.drop('OFFENSE_CODE_GROUP', axis=1)\n",
    "data_df = data_df.join(one_hot)"
   ]
  },
  {
   "cell_type": "code",
   "execution_count": 153,
   "metadata": {},
   "outputs": [
    {
     "name": "stdout",
     "output_type": "stream",
     "text": [
      "<class 'pandas.core.frame.DataFrame'>\n",
      "Int64Index: 21176 entries, 64773 to 247071\n",
      "Data columns (total 79 columns):\n",
      "OFFENSE_CODE                        21176 non-null int64\n",
      "YEAR                                21176 non-null int64\n",
      "MONTH                               21176 non-null int64\n",
      "HOUR                                21176 non-null int64\n",
      "Lat                                 21176 non-null float64\n",
      "Long                                21176 non-null float64\n",
      "A1                                  21176 non-null uint8\n",
      "A15                                 21176 non-null uint8\n",
      "A7                                  21176 non-null uint8\n",
      "B2                                  21176 non-null uint8\n",
      "B3                                  21176 non-null uint8\n",
      "C11                                 21176 non-null uint8\n",
      "C6                                  21176 non-null uint8\n",
      "D14                                 21176 non-null uint8\n",
      "D4                                  21176 non-null uint8\n",
      "E13                                 21176 non-null uint8\n",
      "E18                                 21176 non-null uint8\n",
      "E5                                  21176 non-null uint8\n",
      "Aggravated Assault                  21176 non-null uint8\n",
      "Aircraft                            21176 non-null uint8\n",
      "Arson                               21176 non-null uint8\n",
      "Assembly or Gathering Violations    21176 non-null uint8\n",
      "Auto Theft                          21176 non-null uint8\n",
      "Auto Theft Recovery                 21176 non-null uint8\n",
      "Ballistics                          21176 non-null uint8\n",
      "Bomb Hoax                           21176 non-null uint8\n",
      "Commercial Burglary                 21176 non-null uint8\n",
      "Confidence Games                    21176 non-null uint8\n",
      "Counterfeiting                      21176 non-null uint8\n",
      "Criminal Harassment                 21176 non-null uint8\n",
      "Disorderly Conduct                  21176 non-null uint8\n",
      "Drug Violation                      21176 non-null uint8\n",
      "Embezzlement                        21176 non-null uint8\n",
      "Evading Fare                        21176 non-null uint8\n",
      "Explosives                          21176 non-null uint8\n",
      "Fire Related Reports                21176 non-null uint8\n",
      "Firearm Discovery                   21176 non-null uint8\n",
      "Firearm Violations                  21176 non-null uint8\n",
      "Fraud                               21176 non-null uint8\n",
      "HOME INVASION                       21176 non-null uint8\n",
      "HUMAN TRAFFICKING                   21176 non-null uint8\n",
      "Harassment                          21176 non-null uint8\n",
      "Harbor Related Incidents            21176 non-null uint8\n",
      "Homicide                            21176 non-null uint8\n",
      "Investigate Person                  21176 non-null uint8\n",
      "Investigate Property                21176 non-null uint8\n",
      "Landlord/Tenant Disputes            21176 non-null uint8\n",
      "Larceny                             21176 non-null uint8\n",
      "Larceny From Motor Vehicle          21176 non-null uint8\n",
      "License Plate Related Incidents     21176 non-null uint8\n",
      "License Violation                   21176 non-null uint8\n",
      "Liquor Violation                    21176 non-null uint8\n",
      "Medical Assistance                  21176 non-null uint8\n",
      "Missing Person Located              21176 non-null uint8\n",
      "Missing Person Reported             21176 non-null uint8\n",
      "Motor Vehicle Accident Response     21176 non-null uint8\n",
      "Offenses Against Child / Family     21176 non-null uint8\n",
      "Operating Under the Influence       21176 non-null uint8\n",
      "Other                               21176 non-null uint8\n",
      "Other Burglary                      21176 non-null uint8\n",
      "Phone Call Complaints               21176 non-null uint8\n",
      "Police Service Incidents            21176 non-null uint8\n",
      "Prisoner Related Incidents          21176 non-null uint8\n",
      "Property Found                      21176 non-null uint8\n",
      "Property Lost                       21176 non-null uint8\n",
      "Property Related Damage             21176 non-null uint8\n",
      "Prostitution                        21176 non-null uint8\n",
      "Recovered Stolen Property           21176 non-null uint8\n",
      "Residential Burglary                21176 non-null uint8\n",
      "Restraining Order Violations        21176 non-null uint8\n",
      "Robbery                             21176 non-null uint8\n",
      "Search Warrants                     21176 non-null uint8\n",
      "Service                             21176 non-null uint8\n",
      "Simple Assault                      21176 non-null uint8\n",
      "Towed                               21176 non-null uint8\n",
      "Vandalism                           21176 non-null uint8\n",
      "Verbal Disputes                     21176 non-null uint8\n",
      "Violations                          21176 non-null uint8\n",
      "Warrant Arrests                     21176 non-null uint8\n",
      "dtypes: float64(2), int64(4), uint8(73)\n",
      "memory usage: 3.2 MB\n"
     ]
    }
   ],
   "source": [
    "data_df.info()"
   ]
  },
  {
   "cell_type": "code",
   "execution_count": 154,
   "metadata": {},
   "outputs": [
    {
     "data": {
      "text/plain": [
       "array([2015, 2016, 2017, 2018, 2019], dtype=int64)"
      ]
     },
     "execution_count": 154,
     "metadata": {},
     "output_type": "execute_result"
    }
   ],
   "source": [
    "\n",
    "Classes"
   ]
  },
  {
   "cell_type": "code",
   "execution_count": 155,
   "metadata": {},
   "outputs": [],
   "source": [
    "X,Y = to_xy(data_df,'YEAR')\n",
    "testX, testY = to_xy(data_df,'YEAR')"
   ]
  },
  {
   "cell_type": "code",
   "execution_count": 156,
   "metadata": {},
   "outputs": [
    {
     "name": "stdout",
     "output_type": "stream",
     "text": [
      "(21176, 78)\n",
      "(21176, 5)\n"
     ]
    },
    {
     "data": {
      "text/plain": [
       "array([[0., 0., 0., 0., 1.],\n",
       "       [1., 0., 0., 0., 0.],\n",
       "       [0., 1., 0., 0., 0.],\n",
       "       ...,\n",
       "       [0., 0., 0., 1., 0.],\n",
       "       [0., 0., 0., 0., 1.],\n",
       "       [0., 0., 1., 0., 0.]], dtype=float32)"
      ]
     },
     "execution_count": 156,
     "metadata": {},
     "output_type": "execute_result"
    }
   ],
   "source": [
    "print(X.shape)\n",
    "print(Y.shape)\n",
    "Y"
   ]
  },
  {
   "cell_type": "code",
   "execution_count": 157,
   "metadata": {},
   "outputs": [],
   "source": [
    "import keras\n",
    "from keras.models import Sequential\n",
    "from keras.layers import Dense, Dropout, Activation\n",
    "from keras.optimizers import SGD\n",
    "\n",
    "model = Sequential()\n",
    "model.add(Dense(32, activation='relu', input_dim=X.shape[1]))\n",
    "model.add(Dense(5, activation='softmax'))\n",
    "model.compile(optimizer='rmsprop',\n",
    "              loss='categorical_crossentropy',\n",
    "              metrics=['accuracy'])"
   ]
  },
  {
   "cell_type": "code",
   "execution_count": 158,
   "metadata": {},
   "outputs": [
    {
     "name": "stdout",
     "output_type": "stream",
     "text": [
      "Epoch 1/10\n",
      "21176/21176 [==============================] - 2s 82us/step - loss: 12.9368 - accuracy: 0.2145\n",
      "Epoch 2/10\n",
      "21176/21176 [==============================] - 1s 65us/step - loss: 9.1419 - accuracy: 0.2150\n",
      "Epoch 3/10\n",
      "21176/21176 [==============================] - 1s 64us/step - loss: 8.4917 - accuracy: 0.2155\n",
      "Epoch 4/10\n",
      "21176/21176 [==============================] - 1s 65us/step - loss: 7.9123 - accuracy: 0.2139\n",
      "Epoch 5/10\n",
      "21176/21176 [==============================] - 1s 65us/step - loss: 7.4841 - accuracy: 0.2143\n",
      "Epoch 6/10\n",
      "21176/21176 [==============================] - 1s 65us/step - loss: 7.2473 - accuracy: 0.2181\n",
      "Epoch 7/10\n",
      "21176/21176 [==============================] - 1s 66us/step - loss: 6.8905 - accuracy: 0.2216\n",
      "Epoch 8/10\n",
      "21176/21176 [==============================] - 1s 67us/step - loss: 6.6851 - accuracy: 0.2200\n",
      "Epoch 9/10\n",
      "21176/21176 [==============================] - 1s 67us/step - loss: 6.6469 - accuracy: 0.2245\n",
      "Epoch 10/10\n",
      "21176/21176 [==============================] - 1s 65us/step - loss: 6.4665 - accuracy: 0.2224\n"
     ]
    },
    {
     "data": {
      "text/plain": [
       "<keras.callbacks.callbacks.History at 0x24e5d5e2400>"
      ]
     },
     "execution_count": 158,
     "metadata": {},
     "output_type": "execute_result"
    }
   ],
   "source": [
    "model.fit(X, Y, epochs=10)"
   ]
  },
  {
   "cell_type": "code",
   "execution_count": 159,
   "metadata": {},
   "outputs": [
    {
     "name": "stdout",
     "output_type": "stream",
     "text": [
      "[[2.01662168e-01 7.27218036e-13 6.38390920e-05 7.98271179e-01\n",
      "  2.91235892e-06]\n",
      " [8.11933577e-01 3.33740172e-05 4.04733000e-03 1.83224082e-01\n",
      "  7.61608826e-04]\n",
      " [4.06002134e-01 4.72704524e-14 1.33642088e-05 5.93983531e-01\n",
      "  9.02809006e-07]\n",
      " ...\n",
      " [6.27146482e-01 1.01834584e-13 8.78166338e-06 3.72844130e-01\n",
      "  6.06566175e-07]\n",
      " [3.26811559e-02 1.50158629e-03 2.39023060e-01 6.13373101e-01\n",
      "  1.13421075e-01]\n",
      " [2.17999309e-01 5.13095188e-14 1.45114436e-05 7.81985164e-01\n",
      "  1.01836599e-06]]\n"
     ]
    }
   ],
   "source": [
    "pred = model.predict(testX)\n",
    "print(pred)"
   ]
  },
  {
   "cell_type": "code",
   "execution_count": 160,
   "metadata": {},
   "outputs": [],
   "source": [
    "pred = np.argmax(pred, axis=1)\n"
   ]
  },
  {
   "cell_type": "code",
   "execution_count": 161,
   "metadata": {},
   "outputs": [],
   "source": [
    "true = np.argmax(testY, axis=1)"
   ]
  },
  {
   "cell_type": "code",
   "execution_count": 162,
   "metadata": {},
   "outputs": [
    {
     "data": {
      "text/plain": [
       "array([2018, 2015, 2018, ..., 2015, 2018, 2018], dtype=int64)"
      ]
     },
     "execution_count": 162,
     "metadata": {},
     "output_type": "execute_result"
    }
   ],
   "source": [
    "Classes[pred]"
   ]
  },
  {
   "cell_type": "code",
   "execution_count": 163,
   "metadata": {},
   "outputs": [
    {
     "data": {
      "text/plain": [
       "array([2019, 2015, 2016, ..., 2018, 2019, 2017], dtype=int64)"
      ]
     },
     "execution_count": 163,
     "metadata": {},
     "output_type": "execute_result"
    }
   ],
   "source": [
    "Classes[true]"
   ]
  },
  {
   "cell_type": "code",
   "execution_count": 164,
   "metadata": {},
   "outputs": [
    {
     "name": "stdout",
     "output_type": "stream",
     "text": [
      "Accuracy on test data is 0.22\n"
     ]
    }
   ],
   "source": [
    "print('Accuracy on test data is %.2f' % (accuracy_score(true, pred)))"
   ]
  },
  {
   "cell_type": "code",
   "execution_count": 165,
   "metadata": {},
   "outputs": [
    {
     "name": "stdout",
     "output_type": "stream",
     "text": [
      "              precision    recall  f1-score   support\n",
      "\n",
      "           0       0.20      0.89      0.33      2692\n",
      "           1       0.00      0.00      0.00      4819\n",
      "           2       0.00      0.00      0.00      5073\n",
      "           3       0.24      0.46      0.32      4915\n",
      "           4       0.00      0.00      0.00      3677\n",
      "\n",
      "    accuracy                           0.22     21176\n",
      "   macro avg       0.09      0.27      0.13     21176\n",
      "weighted avg       0.08      0.22      0.12     21176\n",
      "\n"
     ]
    }
   ],
   "source": [
    "print(classification_report(true,pred))"
   ]
  },
  {
   "cell_type": "code",
   "execution_count": null,
   "metadata": {},
   "outputs": [],
   "source": []
  },
  {
   "cell_type": "code",
   "execution_count": null,
   "metadata": {},
   "outputs": [],
   "source": []
  }
 ],
 "metadata": {
  "kernelspec": {
   "display_name": "Python 3",
   "language": "python",
   "name": "python3"
  },
  "language_info": {
   "codemirror_mode": {
    "name": "ipython",
    "version": 3
   },
   "file_extension": ".py",
   "mimetype": "text/x-python",
   "name": "python",
   "nbconvert_exporter": "python",
   "pygments_lexer": "ipython3",
   "version": "3.7.4"
  }
 },
 "nbformat": 4,
 "nbformat_minor": 2
}
